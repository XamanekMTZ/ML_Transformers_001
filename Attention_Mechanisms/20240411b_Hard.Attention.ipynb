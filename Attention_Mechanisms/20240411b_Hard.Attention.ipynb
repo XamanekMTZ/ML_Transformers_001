{
 "cells": [
  {
   "cell_type": "markdown",
   "metadata": {},
   "source": [
    "#### Hard Attention"
   ]
  },
  {
   "cell_type": "markdown",
   "metadata": {},
   "source": [
    "El mecanismo de Hard Attention a diferencia de su contraparte \"Soft Attention\" que permite que las gradientes sean propagadas hacia atrás de manera suave al asignar pesos a todas las partes de la entrada. Hard Attention se enfoca selectivamente en partes particulares de los datos de entrada, ignorando el resto. Este enfoque selectivo es parecido a la manera en que los humanos prestán atención a aspectos particulares de una escena visual o pieza de texto mientras ignoran otros."
   ]
  },
  {
   "cell_type": "markdown",
   "metadata": {},
   "source": [
    "### Características clave  \n",
    "- **Selectividad**: El mecanismo de Hard Attention es selectivo, enfocándose en partes particulares de los datos de entrada. Por ejemplo, en etiquetado de imágenes, el modelo podría enfocarse en objetos en especifico en una imagen en cada paso de la generación de la etiqueta.  \n",
    "  \n",
    "- **No diferenciabilidad**: Hard Attention involucra hacer decisiones discretas, es inherentemente no diferenciable. Esta característica plantea desafios en el entrenamiento usando tecnicas de propagación hacia atrás, que depende de optimización basada en gradientes.  \n",
    "  \n",
    "- **Estocasticidad**: El proceso de selección de Hard Attention es seguido estocastico, significando que involucra cierto nivel de aleatoriedad. Los modelos podrían usar técnicas como muestreo o aprendizaje reforzado para decidir que partes de la entrada enfocarse.  \n",
    "  \n",
    "- **Eficiencia**: Al enfocarse solo en las partes relevantes de la entrada, los mecanismos de Hard Attention pueden ser más eficientes, especialmente con entradas grandes. Ayudan con la carga computacional de procesar y asignar pesos a todas las partes de la entrada en cada paso como lo hace Soft Attention."
   ]
  },
  {
   "cell_type": "code",
   "execution_count": null,
   "metadata": {},
   "outputs": [],
   "source": []
  }
 ],
 "metadata": {
  "language_info": {
   "name": "python"
  }
 },
 "nbformat": 4,
 "nbformat_minor": 2
}
