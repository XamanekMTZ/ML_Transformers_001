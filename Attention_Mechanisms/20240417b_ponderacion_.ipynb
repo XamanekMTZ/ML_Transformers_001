{
 "cells": [
  {
   "cell_type": "code",
   "execution_count": 9,
   "metadata": {},
   "outputs": [
    {
     "name": "stdout",
     "output_type": "stream",
     "text": [
      "Suma ponderada: \n",
      "[[ 5.9  7.   8.1]\n",
      " [ 9.2 10.3 11.4]]\n",
      "\n",
      "Promedio ponderado: \n",
      "[[ 5.36363636  6.36363636  7.36363636]\n",
      " [ 8.36363636  9.36363636 10.36363636]]\n"
     ]
    }
   ],
   "source": [
    "import numpy as np\n",
    "\n",
    "output_soft_attention = np.array([[1, 2, 3], [4, 5, 6]])\n",
    "output_self_attention = np.array([[7, 8, 9], [10, 11, 12]])\n",
    "\n",
    "weight_soft_attention = 0.3\n",
    "weight_self_attention = 0.8\n",
    "\n",
    "suma_ponderada = (weight_soft_attention * output_soft_attention) + (weight_self_attention * output_self_attention)\n",
    "\n",
    "promedio_ponderado = (weight_soft_attention * output_soft_attention + weight_self_attention * output_self_attention) / (weight_soft_attention + weight_self_attention)\n",
    "\n",
    "print( \"Suma ponderada: \")\n",
    "print(suma_ponderada)\n",
    "print(\"\")\n",
    "print( \"Promedio ponderado: \")\n",
    "print(promedio_ponderado)"
   ]
  }
 ],
 "metadata": {
  "kernelspec": {
   "display_name": "TransformersML",
   "language": "python",
   "name": "python3"
  },
  "language_info": {
   "codemirror_mode": {
    "name": "ipython",
    "version": 3
   },
   "file_extension": ".py",
   "mimetype": "text/x-python",
   "name": "python",
   "nbconvert_exporter": "python",
   "pygments_lexer": "ipython3",
   "version": "3.10.12"
  }
 },
 "nbformat": 4,
 "nbformat_minor": 2
}
