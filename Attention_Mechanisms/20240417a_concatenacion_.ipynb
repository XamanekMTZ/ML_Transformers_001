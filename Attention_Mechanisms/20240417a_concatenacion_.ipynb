{
 "cells": [
  {
   "cell_type": "code",
   "execution_count": 5,
   "metadata": {},
   "outputs": [
    {
     "name": "stdout",
     "output_type": "stream",
     "text": [
      "output_soft_attention: \n",
      "\n",
      "[[1 2 3]\n",
      " [4 5 6]]\n",
      "\n",
      "output_self_attention: \n",
      "\n",
      "[[ 7  8  9]\n",
      " [10 11 12]]\n",
      "\n",
      "concatenated: \n",
      "\n",
      "[[ 1  2  3  7  8  9]\n",
      " [ 4  5  6 10 11 12]]\n"
     ]
    }
   ],
   "source": [
    "import numpy as np\n",
    "\n",
    "output_soft_attention = np.array(\n",
    "  [\n",
    "    [1, 2, 3],\n",
    "    [4, 5, 6],\n",
    "  ]\n",
    ")\n",
    "\n",
    "output_self_attention = np.array(\n",
    "  [\n",
    "    [7, 8, 9],\n",
    "    [10, 11, 12],\n",
    "  ]\n",
    ")\n",
    "\n",
    "concatenated = np.concatenate([output_soft_attention, output_self_attention], axis=-1)\n",
    "\n",
    "print( \"output_soft_attention: \")\n",
    "print(\"\")\n",
    "print(output_soft_attention)\n",
    "print(\"\")\n",
    "print( \"output_self_attention: \")\n",
    "print(\"\")\n",
    "print(output_self_attention)\n",
    "print(\"\")\n",
    "print( \"concatenated: \")\n",
    "print(\"\")\n",
    "print(concatenated)"
   ]
  }
 ],
 "metadata": {
  "kernelspec": {
   "display_name": "TransformersML",
   "language": "python",
   "name": "python3"
  },
  "language_info": {
   "codemirror_mode": {
    "name": "ipython",
    "version": 3
   },
   "file_extension": ".py",
   "mimetype": "text/x-python",
   "name": "python",
   "nbconvert_exporter": "python",
   "pygments_lexer": "ipython3",
   "version": "3.10.12"
  }
 },
 "nbformat": 4,
 "nbformat_minor": 2
}
