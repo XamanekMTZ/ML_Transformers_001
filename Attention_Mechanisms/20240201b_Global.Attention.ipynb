{
 "cells": [
  {
   "cell_type": "code",
   "execution_count": 1,
   "metadata": {},
   "outputs": [
    {
     "name": "stdout",
     "output_type": "stream",
     "text": [
      "Context Vector:  tensor([[ 0.2647, -0.0531, -0.8628,  0.9418, -0.3954,  0.4831,  0.0982,  0.5392,\n",
      "          0.4690,  0.3095]], grad_fn=<SumBackward1>)\n",
      "\n",
      "Attention Weights:  tensor([[[0.4770],\n",
      "         [0.3783],\n",
      "         [0.0115],\n",
      "         [0.1059],\n",
      "         [0.0273]]], grad_fn=<UnsqueezeBackward0>)\n"
     ]
    }
   ],
   "source": [
    "import torch\n",
    "import torch.nn as nn\n",
    "import torch.nn.functional as F\n",
    "\n",
    "class GlobalAttention( nn.Module ):\n",
    "  def __init__( self, input_dim, attention_dim ):\n",
    "    super( GlobalAttention, self ).__init__()\n",
    "    self.input_projection = nn.Linear( input_dim, attention_dim )\n",
    "    self.context_vector = nn.Parameter( torch.randn( attention_dim ), requires_grad=True )\n",
    "\n",
    "  def forward( self, inputs ):\n",
    "    # inputs: ( batch_size, sequence_len, input_dim )\n",
    "\n",
    "    # project inputs to attention space\n",
    "    projected_inputs = torch.tanh( self.input_projection( inputs ) ) # ( batch_size, sequence_len, attention_dim )\n",
    "\n",
    "    # Compute attention scores using the dot product between the projected inputs and the learnable context vector\n",
    "    attention_scores = torch.matmul( projected_inputs, self.context_vector ) # ( batch_size, sequence_len )\n",
    "\n",
    "    # Apply softmax to obtain attention weights\n",
    "    attention_weights = F.softmax( attention_scores, dim = -1 ).unsqueeze( - 1 ) # ( batch_size, sequence_len, 1 )\n",
    "\n",
    "    # Compute the context vector as the weighted sum of the inputs\n",
    "    context_vector = torch.sum( attention_weights * inputs, dim = 1 ) # ( batch_size, input_dim )\n",
    "\n",
    "    return context_vector, attention_weights\n",
    "\n",
    "# Example\n",
    "batch_size = 1 \n",
    "sequence_length = 5\n",
    "input_dim = 10\n",
    "attention_dim = 20 \n",
    "\n",
    "inputs = torch.randn( batch_size, sequence_length, input_dim )\n",
    "attention_layer = GlobalAttention( input_dim, attention_dim )\n",
    "context_vector, attention_weights = attention_layer( inputs )\n",
    "\n",
    "print( \"Context Vector: \", context_vector )\n",
    "print( \"\" )\n",
    "print( \"Attention Weights: \", attention_weights )"
   ]
  }
 ],
 "metadata": {
  "kernelspec": {
   "display_name": "Transformer001",
   "language": "python",
   "name": "python3"
  },
  "language_info": {
   "codemirror_mode": {
    "name": "ipython",
    "version": 3
   },
   "file_extension": ".py",
   "mimetype": "text/x-python",
   "name": "python",
   "nbconvert_exporter": "python",
   "pygments_lexer": "ipython3",
   "version": "3.10.12"
  }
 },
 "nbformat": 4,
 "nbformat_minor": 2
}
