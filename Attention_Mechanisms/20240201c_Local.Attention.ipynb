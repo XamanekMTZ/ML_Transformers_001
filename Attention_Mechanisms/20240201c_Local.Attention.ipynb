{
 "cells": [
  {
   "cell_type": "code",
   "execution_count": 1,
   "metadata": {},
   "outputs": [
    {
     "name": "stdout",
     "output_type": "stream",
     "text": [
      "Context Vector:  tensor([[-0.7241, -0.8201,  1.9877,  0.4045, -0.6351, -0.6169,  0.3873, -0.9794,\n",
      "         -0.2766, -1.3938,  1.6483,  0.0800,  0.4006, -1.9020, -0.2444, -0.3690]],\n",
      "       grad_fn=<SumBackward1>)\n",
      "\n",
      "Attention Weights:  tensor([[[3.5325e-04],\n",
      "         [3.2313e-02],\n",
      "         [2.3629e-01],\n",
      "         [1.6559e-02],\n",
      "         [7.1449e-01]]], grad_fn=<UnsqueezeBackward0>)\n"
     ]
    }
   ],
   "source": [
    "import torch\n",
    "import torch.nn as nn\n",
    "import torch.nn.functional as F\n",
    "\n",
    "class LocalAttention( nn.Module ):\n",
    "  def __init__( self, input_dim, attention_dim, window_size ):\n",
    "    super( LocalAttention, self ).__init__()\n",
    "    self.input_projection = nn.Linear( input_dim, attention_dim )\n",
    "    self.context_vector = nn.Parameter( torch.randn( attention_dim ), requires_grad=True )\n",
    "    self.window_size = window_size\n",
    "\n",
    "  def forward( self, inputs, center_position ):\n",
    "    # inputs: ( batch_size, sequence_length, input_dim )\n",
    "    # center_position: Central position of the window for local attention\n",
    "    center_position = torch.tensor( center_position, device = inputs.device, dtype = torch.int64 )\n",
    "\n",
    "    # Compute the limits of the window for local attention\n",
    "    start_position = torch.clamp( center_position - self.window_size // 2, 0, inputs.size( 1 ) - 1 )\n",
    "    end_position = torch.clamp( center_position + self.window_size // 2, 0, inputs.size( 1 ) - 1 )\n",
    "\n",
    "    indexes = torch.arange( start_position, end_position + 1, device = inputs.device )\n",
    "    # Extract the subsequence of the local attention window\n",
    "    #local_inputs = inputs[:, start_position:end_position, :]\n",
    "    local_inputs = inputs[:, indexes, :]\n",
    "\n",
    "    # Project the local inputs to a dimension space attention vector\n",
    "    projected_inputs = torch.tanh( self.input_projection( local_inputs ) )\n",
    "\n",
    "    # Compute the attention scores\n",
    "    attention_scores = torch.matmul( projected_inputs, self.context_vector )\n",
    "\n",
    "    # Apply the softmax function to get the attention weights\n",
    "    attention_weights = F.softmax( attention_scores, dim = -1 ).unsqueeze( -1 )\n",
    "\n",
    "    # Compute the local attention vector as the weighted sum of the local inputs\n",
    "    context_vector = torch.sum( attention_weights * local_inputs, dim = 1 )\n",
    "\n",
    "    return context_vector, attention_weights\n",
    "  \n",
    "# Example\n",
    "batch_size = 1 \n",
    "sequence_length = 10\n",
    "input_dim = 16\n",
    "attention_dim = 32 \n",
    "window_size = 5\n",
    "center_position = 4\n",
    "\n",
    "inputs = torch.randn( batch_size, sequence_length, input_dim )\n",
    "attention_layer = LocalAttention( input_dim, attention_dim, window_size )\n",
    "context_vector, attention_weights = attention_layer( inputs, center_position )\n",
    "\n",
    "print( \"Context Vector: \", context_vector )\n",
    "print( \"\" )\n",
    "print( \"Attention Weights: \", attention_weights )"
   ]
  }
 ],
 "metadata": {
  "kernelspec": {
   "display_name": "Transformer001",
   "language": "python",
   "name": "python3"
  },
  "language_info": {
   "codemirror_mode": {
    "name": "ipython",
    "version": 3
   },
   "file_extension": ".py",
   "mimetype": "text/x-python",
   "name": "python",
   "nbconvert_exporter": "python",
   "pygments_lexer": "ipython3",
   "version": "3.10.12"
  }
 },
 "nbformat": 4,
 "nbformat_minor": 2
}
