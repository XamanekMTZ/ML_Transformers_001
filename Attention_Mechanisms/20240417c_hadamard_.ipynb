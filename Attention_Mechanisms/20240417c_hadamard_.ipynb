{
 "cells": [
  {
   "cell_type": "code",
   "execution_count": 1,
   "metadata": {},
   "outputs": [
    {
     "name": "stdout",
     "output_type": "stream",
     "text": [
      "Producto Hadamard: \n",
      "[[ 7 16 27]\n",
      " [40 55 72]]\n"
     ]
    }
   ],
   "source": [
    "import numpy as np\n",
    "\n",
    "output_soft_attention = np.array([[1, 2, 3], [4, 5, 6]])\n",
    "output_self_attention = np.array([[7, 8, 9], [10, 11, 12]])\n",
    "\n",
    "producto_hadamard = np.multiply(output_soft_attention, output_self_attention)\n",
    "\n",
    "print(\"Producto Hadamard: \")\n",
    "print(producto_hadamard)"
   ]
  }
 ],
 "metadata": {
  "kernelspec": {
   "display_name": "TransformersML",
   "language": "python",
   "name": "python3"
  },
  "language_info": {
   "codemirror_mode": {
    "name": "ipython",
    "version": 3
   },
   "file_extension": ".py",
   "mimetype": "text/x-python",
   "name": "python",
   "nbconvert_exporter": "python",
   "pygments_lexer": "ipython3",
   "version": "3.10.12"
  }
 },
 "nbformat": 4,
 "nbformat_minor": 2
}
