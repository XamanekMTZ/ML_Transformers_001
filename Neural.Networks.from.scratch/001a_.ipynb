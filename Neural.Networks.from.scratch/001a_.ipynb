{
 "cells": [
  {
   "cell_type": "code",
   "execution_count": 2,
   "metadata": {},
   "outputs": [
    {
     "name": "stdout",
     "output_type": "stream",
     "text": [
      "[4.8, 1.21, 2.385]\n"
     ]
    }
   ],
   "source": [
    "inputs = [1, 2, 3, 2.5]\n",
    "weights = [\n",
    "  [0.2, 0.8, -0.5, 1],\n",
    "  [0.5, -0.91, 0.26, -0.5],\n",
    "  [-0.26, -0.27, 0.17, 0.87]\n",
    "]\n",
    "biases = [2, 3, 0.5]\n",
    "\n",
    "# Output of current layer\n",
    "layer_outputs = []\n",
    "\n",
    "# For each neuron\n",
    "for neuron_weights, neuron_bias in zip( weights, biases ):\n",
    "  # Zeroed output of given neuron\n",
    "  neuron_output = 0\n",
    "  # For each input and weight to the neuron\n",
    "  for n_input, weight in zip(inputs, neuron_weights):\n",
    "    # Multiply this input by associated weight\n",
    "    # and add to the neuron's output variable\n",
    "    neuron_output += n_input * weight\n",
    "  # Add bias\n",
    "  neuron_output += neuron_bias\n",
    "  # Put neuron's result to the layer's output list \n",
    "  layer_outputs.append( neuron_output )\n",
    "\n",
    "print( layer_outputs )"
   ]
  },
  {
   "cell_type": "code",
   "execution_count": 9,
   "metadata": {},
   "outputs": [
    {
     "name": "stdout",
     "output_type": "stream",
     "text": [
      "[[ 70  80  90]\n",
      " [158 184 210]\n",
      " [246 288 330]]\n"
     ]
    }
   ],
   "source": [
    "import numpy as np\n",
    "\n",
    "A = np.array([\n",
    "  [1, 2, 3, 4],\n",
    "  [5, 6, 7, 8],\n",
    "  [9, 10, 11, 12]\n",
    "])\n",
    "\n",
    "B = np.array([\n",
    "  [1, 2, 3],\n",
    "  [4, 5, 6],\n",
    "  [7, 8, 9],\n",
    "  [10, 11, 12]\n",
    "])\n",
    "\n",
    "# C = np.dot(A, B)\n",
    "# C = np.multiply( A, B )\n",
    "#C = np.matmul( A, B )\n",
    "# C = A.dot( B )\n",
    "C = A @ B\n",
    "\n",
    "print( C )"
   ]
  },
  {
   "cell_type": "code",
   "execution_count": 10,
   "metadata": {},
   "outputs": [
    {
     "name": "stdout",
     "output_type": "stream",
     "text": [
      "[[ 4.8    1.21   2.385]\n",
      " [ 8.9   -1.81   0.2  ]\n",
      " [ 1.41   1.051  0.026]]\n"
     ]
    }
   ],
   "source": [
    "inputs = [\n",
    "  [1.0, 2.0, 3.0, 2.5],\n",
    "  [2.0, 5.0, -1.0, 2.0],\n",
    "  [-1.5, 2.7, 3.3, -0.8]\n",
    "]\n",
    "\n",
    "weights = [\n",
    "  [0.2, 0.8, -0.5, 1.0],\n",
    "  [0.5, -0.91, 0.26, -0.5],\n",
    "  [-0.26, -0.27, 0.17, 0.87]\n",
    "]\n",
    "\n",
    "biases = [ 2.0, 3.0, 0.5 ]\n",
    "\n",
    "layer_outputs = np.dot( inputs, np.array( weights ).T ) + biases\n",
    "\n",
    "print( layer_outputs )"
   ]
  },
  {
   "cell_type": "code",
   "execution_count": 11,
   "metadata": {},
   "outputs": [
    {
     "name": "stdout",
     "output_type": "stream",
     "text": [
      "[[ 0.5031  -1.04185 -2.03875]\n",
      " [ 0.2434  -2.7332  -5.7633 ]\n",
      " [-0.99314  1.41254 -0.35655]]\n"
     ]
    }
   ],
   "source": [
    "inputs = [\n",
    "  [ 1, 2, 3, 2.5 ],\n",
    "  [ 2., 5., -1., 2 ],\n",
    "  [ -1.5, 2.7, 3.3, -0.8 ]\n",
    "]\n",
    "\n",
    "weights = [\n",
    "  [ 0.2, 0.8, -0.5, 1 ],\n",
    "  [ 0.5, -0.91, 0.26, -0.5 ],\n",
    "  [ -0.26, -0.27, 0.17, 0.87 ]\n",
    "]\n",
    "\n",
    "biases = [ 2, 3, 0.5 ]\n",
    "\n",
    "weights2 = [\n",
    "  [ 0.1, -0.14, 0.5 ],\n",
    "  [ -0.5, 0.12, -0.33 ],\n",
    "  [ -0.44, 0.73, -0.13 ]\n",
    "]\n",
    "\n",
    "biases2 = [ -1, 2, -0.5 ]\n",
    "\n",
    "layer1_outputs = np.dot( inputs, np.array( weights ).T ) + biases\n",
    "\n",
    "layer2_outputs = np.dot( layer1_outputs, np.array( weights2 ).T ) + biases2\n",
    "\n",
    "print( layer2_outputs )"
   ]
  }
 ],
 "metadata": {
  "kernelspec": {
   "display_name": "Transformer001",
   "language": "python",
   "name": "python3"
  },
  "language_info": {
   "codemirror_mode": {
    "name": "ipython",
    "version": 3
   },
   "file_extension": ".py",
   "mimetype": "text/x-python",
   "name": "python",
   "nbconvert_exporter": "python",
   "pygments_lexer": "ipython3",
   "version": "3.10.12"
  }
 },
 "nbformat": 4,
 "nbformat_minor": 2
}
