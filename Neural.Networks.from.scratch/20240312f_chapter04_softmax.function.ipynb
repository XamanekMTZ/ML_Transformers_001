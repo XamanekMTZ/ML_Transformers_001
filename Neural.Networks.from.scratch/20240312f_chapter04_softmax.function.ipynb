{
 "cells": [
  {
   "cell_type": "code",
   "execution_count": 2,
   "id": "initial_id",
   "metadata": {
    "collapsed": true,
    "ExecuteTime": {
     "end_time": "2024-03-12T15:41:43.529408Z",
     "start_time": "2024-03-12T15:41:43.523307Z"
    }
   },
   "outputs": [
    {
     "name": "stdout",
     "output_type": "stream",
     "text": [
      "exponentiated values: \n",
      "[121.51041751893969, 3.3534846525504487, 10.85906266492961]\n"
     ]
    }
   ],
   "source": [
    "layer_outputs = [4.8, 1.21, 2.385]\n",
    "\n",
    "E = 2.71828182846\n",
    "\n",
    "exp_values = []\n",
    "\n",
    "for output in layer_outputs:\n",
    "    exp_values.append(E ** output)\n",
    "    \n",
    "print( 'exponentiated values: ' )\n",
    "print(exp_values)"
   ]
  },
  {
   "cell_type": "code",
   "outputs": [
    {
     "name": "stdout",
     "output_type": "stream",
     "text": [
      "Normalized exponentiated values: \n",
      "[0.8952826639573506, 0.024708306782070668, 0.08000902926057876]\n",
      "Sum of normalized values:  1.0\n"
     ]
    }
   ],
   "source": [
    "norm_base = sum( exp_values )\n",
    "norm_values = []\n",
    "\n",
    "for value in exp_values:\n",
    "    norm_values.append( value / norm_base )\n",
    "    \n",
    "print( 'Normalized exponentiated values: ' )\n",
    "print( norm_values )\n",
    "\n",
    "print( 'Sum of normalized values: ', sum( norm_values ) )"
   ],
   "metadata": {
    "collapsed": false,
    "ExecuteTime": {
     "end_time": "2024-03-12T15:42:38.703871Z",
     "start_time": "2024-03-12T15:42:38.697145Z"
    }
   },
   "id": "d196ea2dabeabb9c",
   "execution_count": 3
  },
  {
   "cell_type": "code",
   "outputs": [
    {
     "name": "stdout",
     "output_type": "stream",
     "text": [
      "exponentiated values: \n",
      "[121.51041752   3.35348465  10.85906266]\n"
     ]
    }
   ],
   "source": [
    "# Ahora con numpy\n",
    "\n",
    "import numpy as np\n",
    "\n",
    "layer_outputs = [4.8, 1.21, 2.385]\n",
    "\n",
    "exp_values = np.exp( layer_outputs )\n",
    "print( 'exponentiated values: ' )\n",
    "print(exp_values)"
   ],
   "metadata": {
    "collapsed": false,
    "ExecuteTime": {
     "end_time": "2024-03-12T15:50:30.050587Z",
     "start_time": "2024-03-12T15:50:30.044902Z"
    }
   },
   "id": "f10ac0e6e24746ab",
   "execution_count": 5
  },
  {
   "cell_type": "code",
   "outputs": [
    {
     "name": "stdout",
     "output_type": "stream",
     "text": [
      "Normalized exponentiated values: \n",
      "[0.89528266 0.02470831 0.08000903]\n",
      "Sum of normalized values:  0.9999999999999999\n"
     ]
    }
   ],
   "source": [
    "norm_values = exp_values / np.sum( exp_values )\n",
    "print( 'Normalized exponentiated values: ' )\n",
    "print( norm_values )\n",
    "print( 'Sum of normalized values: ', np.sum( norm_values ) )"
   ],
   "metadata": {
    "collapsed": false,
    "ExecuteTime": {
     "end_time": "2024-03-12T15:50:51.385724Z",
     "start_time": "2024-03-12T15:50:51.381274Z"
    }
   },
   "id": "7d097ad2e7f88c4d",
   "execution_count": 6
  },
  {
   "cell_type": "code",
   "outputs": [
    {
     "name": "stdout",
     "output_type": "stream",
     "text": [
      "Sum without axis\n",
      "18.172\n",
      "This will be identical to the above since default is None:\n",
      "18.172\n"
     ]
    }
   ],
   "source": [
    "import numpy as np\n",
    "\n",
    "layer_outputs = np.array(\n",
    "    [\n",
    "        [4.8, 1.21, 2.385],\n",
    "        [8.9, -1.81, 0.2],\n",
    "        [1.41, 1.051, 0.026]\n",
    "    ]\n",
    ")\n",
    "\n",
    "print( 'Sum without axis' )\n",
    "print( np.sum( layer_outputs ) )\n",
    "\n",
    "print( 'This will be identical to the above since default is None:' )\n",
    "print( np.sum( layer_outputs, axis = None ) )"
   ],
   "metadata": {
    "collapsed": false,
    "ExecuteTime": {
     "end_time": "2024-03-12T15:54:09.598049Z",
     "start_time": "2024-03-12T15:54:09.591300Z"
    }
   },
   "id": "421f0fe9d97015b0",
   "execution_count": 7
  },
  {
   "cell_type": "code",
   "outputs": [
    {
     "name": "stdout",
     "output_type": "stream",
     "text": [
      "Another way to think of it w/ a matrix == axis 0: columns: \n",
      "[15.11   0.451  2.611]\n"
     ]
    }
   ],
   "source": [
    "print( 'Another way to think of it w/ a matrix == axis 0: columns: ' )\n",
    "print( np.sum( layer_outputs, axis = 0 ) )"
   ],
   "metadata": {
    "collapsed": false,
    "ExecuteTime": {
     "end_time": "2024-03-12T15:55:13.899576Z",
     "start_time": "2024-03-12T15:55:13.893933Z"
    }
   },
   "id": "e488ca1e13fc24b7",
   "execution_count": 9
  },
  {
   "cell_type": "code",
   "outputs": [
    {
     "name": "stdout",
     "output_type": "stream",
     "text": [
      "But we want to sum the rows instead, like this w/ raw py: \n",
      "8.395\n",
      "7.29\n",
      "2.4869999999999997\n"
     ]
    }
   ],
   "source": [
    "print( 'But we want to sum the rows instead, like this w/ raw py: ' )\n",
    "\n",
    "for i in layer_outputs:\n",
    "    print( sum( i ) )"
   ],
   "metadata": {
    "collapsed": false,
    "ExecuteTime": {
     "end_time": "2024-03-12T15:56:04.230502Z",
     "start_time": "2024-03-12T15:56:04.225090Z"
    }
   },
   "id": "d7bd41ec63f7447d",
   "execution_count": 10
  }
 ],
 "metadata": {
  "kernelspec": {
   "display_name": "Python 3",
   "language": "python",
   "name": "python3"
  },
  "language_info": {
   "codemirror_mode": {
    "name": "ipython",
    "version": 2
   },
   "file_extension": ".py",
   "mimetype": "text/x-python",
   "name": "python",
   "nbconvert_exporter": "python",
   "pygments_lexer": "ipython2",
   "version": "2.7.6"
  }
 },
 "nbformat": 4,
 "nbformat_minor": 5
}
