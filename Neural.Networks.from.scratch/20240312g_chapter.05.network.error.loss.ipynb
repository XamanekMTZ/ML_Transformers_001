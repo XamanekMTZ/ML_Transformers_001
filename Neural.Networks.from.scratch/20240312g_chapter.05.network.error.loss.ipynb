{
 "cells": [
  {
   "cell_type": "code",
   "execution_count": 1,
   "id": "initial_id",
   "metadata": {
    "collapsed": true,
    "ExecuteTime": {
     "end_time": "2024-03-12T16:18:51.081331Z",
     "start_time": "2024-03-12T16:18:51.078670Z"
    }
   },
   "outputs": [
    {
     "name": "stdout",
     "output_type": "stream",
     "text": [
      "0.35667494393873245\n"
     ]
    }
   ],
   "source": [
    "# Categorical Cross-Entropy Loss\n",
    "\n",
    "import math\n",
    "\n",
    "# An example output from the output layer of the neural network\n",
    "softmax_output = [0.7, 0.1, 0.2]\n",
    "\n",
    "# Ground truth\n",
    "target_output = [1, 0, 0]\n",
    "\n",
    "loss = -(\n",
    "    math.log(softmax_output[0]) * target_output[0] +\n",
    "    math.log(softmax_output[1]) * target_output[1] +\n",
    "    math.log(softmax_output[2]) * target_output[2]\n",
    ")\n",
    "\n",
    "print( loss )"
   ]
  },
  {
   "cell_type": "code",
   "outputs": [
    {
     "name": "stdout",
     "output_type": "stream",
     "text": [
      "0.35667494393873245\n"
     ]
    }
   ],
   "source": [
    "# Categorical Cross-Entropy Loss\n",
    "\n",
    "loss = -math.log( softmax_output[0] )\n",
    "\n",
    "print( loss )"
   ],
   "metadata": {
    "collapsed": false,
    "ExecuteTime": {
     "end_time": "2024-03-12T16:21:52.141179Z",
     "start_time": "2024-03-12T16:21:52.137778Z"
    }
   },
   "id": "2601ed0cb2230c49",
   "execution_count": 3
  },
  {
   "cell_type": "code",
   "outputs": [
    {
     "name": "stdout",
     "output_type": "stream",
     "text": [
      "0.0\n",
      "-0.05129329438755058\n",
      "-0.10536051565782628\n",
      "-0.2231435513142097\n",
      "-0.35667494393873245\n",
      "-0.5108256237659907\n",
      "-0.6931471805599453\n",
      "-0.916290731874155\n",
      "-1.2039728043259361\n",
      "-1.6094379124341003\n",
      "-2.3025850929940455\n",
      "-2.995732273553991\n",
      "-4.605170185988091\n"
     ]
    }
   ],
   "source": [
    "import math\n",
    "\n",
    "print( math.log( 1. ) )\n",
    "print( math.log( 0.95 ) )\n",
    "print( math.log( 0.9 ) )\n",
    "print( math.log( 0.8 ) )\n",
    "print( math.log( 0.7 ) )\n",
    "print( math.log( 0.6 ) )\n",
    "print( math.log( 0.5 ) )\n",
    "print( math.log( 0.4 ) )\n",
    "print( math.log( 0.3 ) )\n",
    "print( math.log( 0.2 ) )\n",
    "print( math.log( 0.1 ) )\n",
    "print( math.log( 0.05 ) )\n",
    "print( math.log( 0.01 ) )"
   ],
   "metadata": {
    "collapsed": false,
    "ExecuteTime": {
     "end_time": "2024-03-12T16:26:19.823897Z",
     "start_time": "2024-03-12T16:26:19.815460Z"
    }
   },
   "id": "30230610c1ffb320",
   "execution_count": 4
  },
  {
   "cell_type": "code",
   "outputs": [
    {
     "name": "stdout",
     "output_type": "stream",
     "text": [
      "1.6486586255873816\n"
     ]
    }
   ],
   "source": [
    "import numpy as np \n",
    "\n",
    "b = 5.2 \n",
    "print( np.log(b))\n"
   ],
   "metadata": {
    "collapsed": false,
    "ExecuteTime": {
     "end_time": "2024-03-12T16:43:13.761002Z",
     "start_time": "2024-03-12T16:43:13.755406Z"
    }
   },
   "id": "d8876585e7a16175",
   "execution_count": 5
  },
  {
   "cell_type": "code",
   "outputs": [
    {
     "name": "stdout",
     "output_type": "stream",
     "text": [
      "5.199999999999999\n"
     ]
    }
   ],
   "source": [
    "import math\n",
    "\n",
    "print( math.e ** 1.6486586255873816 )"
   ],
   "metadata": {
    "collapsed": false,
    "ExecuteTime": {
     "end_time": "2024-03-12T16:44:11.813923Z",
     "start_time": "2024-03-12T16:44:11.809618Z"
    }
   },
   "id": "6829193242b5ed36",
   "execution_count": 6
  },
  {
   "cell_type": "code",
   "outputs": [],
   "source": [
    "softmax_outputs = np.array(\n",
    "    [\n",
    "        [0.7, 0.1, 0.2],\n",
    "        [0.1, 0.5, 0.4],\n",
    "        [0.02, 0.9, 0.08]\n",
    "    ]\n",
    ")\n",
    "\n",
    "class_targets = [ 0, 1, 1 ]"
   ],
   "metadata": {
    "collapsed": false,
    "ExecuteTime": {
     "end_time": "2024-03-12T16:53:11.576788Z",
     "start_time": "2024-03-12T16:53:11.570935Z"
    }
   },
   "id": "90d79afd69f69531",
   "execution_count": 7
  },
  {
   "cell_type": "code",
   "outputs": [
    {
     "name": "stdout",
     "output_type": "stream",
     "text": [
      "0.7\n",
      "0.5\n",
      "0.9\n"
     ]
    }
   ],
   "source": [
    "for targ_idx, distribution in zip( class_targets, softmax_outputs):\n",
    "    print( distribution[targ_idx] )"
   ],
   "metadata": {
    "collapsed": false,
    "ExecuteTime": {
     "end_time": "2024-03-12T16:53:13.109743Z",
     "start_time": "2024-03-12T16:53:13.105931Z"
    }
   },
   "id": "3d8d9b9981729e27",
   "execution_count": 8
  },
  {
   "cell_type": "code",
   "outputs": [
    {
     "name": "stdout",
     "output_type": "stream",
     "text": [
      "[0.7 0.5 0.9]\n"
     ]
    }
   ],
   "source": [
    "softmax_outputs = np.array(\n",
    "    [\n",
    "        [0.7, 0.1, 0.2],\n",
    "        [0.1, 0.5, 0.4],\n",
    "        [0.02, 0.9, 0.08]\n",
    "    ]\n",
    ")\n",
    "\n",
    "class_targets = [ 0, 1, 1 ]\n",
    "\n",
    "print( softmax_outputs[ [0, 1, 2 ], class_targets ] )"
   ],
   "metadata": {
    "collapsed": false,
    "ExecuteTime": {
     "end_time": "2024-03-12T16:56:45.885772Z",
     "start_time": "2024-03-12T16:56:45.879284Z"
    }
   },
   "id": "aedd229b71b778af",
   "execution_count": 11
  },
  {
   "cell_type": "code",
   "outputs": [
    {
     "name": "stdout",
     "output_type": "stream",
     "text": [
      "[0.7 0.5 0.9]\n"
     ]
    }
   ],
   "source": [
    "print(\n",
    "    softmax_outputs[\n",
    "        range(\n",
    "            len(softmax_outputs)\n",
    "        ), class_targets\n",
    "    ]\n",
    ")"
   ],
   "metadata": {
    "collapsed": false,
    "ExecuteTime": {
     "end_time": "2024-03-12T16:58:22.594345Z",
     "start_time": "2024-03-12T16:58:22.590335Z"
    }
   },
   "id": "63ddc81b1280691c",
   "execution_count": 12
  },
  {
   "cell_type": "code",
   "outputs": [
    {
     "name": "stdout",
     "output_type": "stream",
     "text": [
      "[0.35667494 0.69314718 0.10536052]\n"
     ]
    }
   ],
   "source": [
    "print( -np.log( softmax_outputs[\n",
    "    range(\n",
    "        len(softmax_outputs)\n",
    "    ), class_targets\n",
    "] ) )"
   ],
   "metadata": {
    "collapsed": false,
    "ExecuteTime": {
     "end_time": "2024-03-12T16:59:01.242354Z",
     "start_time": "2024-03-12T16:59:01.237775Z"
    }
   },
   "id": "ac4c23650e901014",
   "execution_count": 13
  },
  {
   "cell_type": "code",
   "outputs": [
    {
     "name": "stdout",
     "output_type": "stream",
     "text": [
      "0.38506088005216804\n"
     ]
    }
   ],
   "source": [
    "neg_log = -np.log( softmax_outputs[\n",
    "    range(\n",
    "        len(softmax_outputs)\n",
    "    ), class_targets\n",
    "] )\n",
    "\n",
    "average_loss = np.mean( neg_log )\n",
    "print( average_loss )"
   ],
   "metadata": {
    "collapsed": false,
    "ExecuteTime": {
     "end_time": "2024-03-12T17:00:40.785Z",
     "start_time": "2024-03-12T17:00:40.781948Z"
    }
   },
   "id": "bb3380bf792f86ed",
   "execution_count": 14
  },
  {
   "cell_type": "code",
   "outputs": [
    {
     "name": "stdout",
     "output_type": "stream",
     "text": [
      "0.38506088005216804\n"
     ]
    }
   ],
   "source": [
    "import numpy as np \n",
    "\n",
    "softmax_outputs = np.array(\n",
    "    [\n",
    "        [0.7, 0.1, 0.2],\n",
    "        [0.1, 0.5, 0.4],\n",
    "        [0.02, 0.9, 0.08]\n",
    "    ]\n",
    ")\n",
    "\n",
    "class_targets = np.array(\n",
    "    [\n",
    "        [1, 0, 0],\n",
    "        [0, 1, 0],\n",
    "        [0, 1, 0]\n",
    "    ]\n",
    ")\n",
    "\n",
    "# Probabilities for taget values\n",
    "# only if categorical labels\n",
    "if len( class_targets.shape ) == 1:\n",
    "    correct_confidences = softmax_outputs[\n",
    "        range(\n",
    "            len(softmax_outputs)\n",
    "        ), class_targets\n",
    "    ]\n",
    "elif len( class_targets.shape ) == 2:\n",
    "    correct_confidences = np.sum(\n",
    "        softmax_outputs * class_targets,\n",
    "        axis = 1\n",
    "    )\n",
    "    \n",
    "neg_log = -np.log( correct_confidences )\n",
    "\n",
    "average_loss = np.mean( neg_log )\n",
    "print( average_loss )"
   ],
   "metadata": {
    "collapsed": false,
    "ExecuteTime": {
     "end_time": "2024-03-12T17:05:32.706753Z",
     "start_time": "2024-03-12T17:05:32.703291Z"
    }
   },
   "id": "3ba2669d17eb3027",
   "execution_count": 15
  },
  {
   "cell_type": "code",
   "outputs": [
    {
     "name": "stderr",
     "output_type": "stream",
     "text": [
      "/tmp/ipykernel_19691/1710585469.py:2: RuntimeWarning: divide by zero encountered in log\n",
      "  -np.log( 0 )\n"
     ]
    },
    {
     "data": {
      "text/plain": "inf"
     },
     "execution_count": 16,
     "metadata": {},
     "output_type": "execute_result"
    }
   ],
   "source": [
    "import numpy as np\n",
    "-np.log( 0 )"
   ],
   "metadata": {
    "collapsed": false,
    "ExecuteTime": {
     "end_time": "2024-03-12T17:05:59.454904Z",
     "start_time": "2024-03-12T17:05:59.450722Z"
    }
   },
   "id": "702c03a50982f4f",
   "execution_count": 16
  },
  {
   "cell_type": "code",
   "outputs": [],
   "source": [
    "# Common loss class\n",
    "class Loss:\n",
    "    \n",
    "    # Calculates the data and regularization losses\n",
    "    # given model output and ground truth values\n",
    "    def calculate(self, output, y):\n",
    "        \n",
    "        # Calculate sample losses\n",
    "        sample_losses = self.forward(output, y)\n",
    "        \n",
    "        # Calculate mean loss\n",
    "        data_loss = np.mean(sample_losses)\n",
    "        \n",
    "        # Return loss\n",
    "        return data_loss"
   ],
   "metadata": {
    "collapsed": false
   },
   "id": "6d8f091042fc8ee4"
  },
  {
   "cell_type": "code",
   "outputs": [],
   "source": [
    "# Cross-entropy loss\n",
    "class Loss_CategoricalCrossentropy( Loss ):\n",
    "    \n",
    "    # Forward pass\n",
    "    def forward( self, y_pred, y_true ):\n",
    "        \n",
    "        # Number of samples in a batch\n",
    "        samples = len( y_pred )\n",
    "        \n",
    "        # Clip data to prevent division by 0\n",
    "        # Clip both sides to not drag mean towards any value\n",
    "        y_pred_clipped = np.clip( y_pred, 1e-7, 1 - 1e-7 )\n",
    "        \n",
    "        # Probabilities for target values - \n",
    "        # only if categorical labels\n",
    "        if len( y_true.shape ) == 1:\n",
    "            correct_confidences = y_pred_clipped[\n",
    "                range( samples ),\n",
    "                y_true\n",
    "            ]\n",
    "        elif len( y_true.shape ) == 2:\n",
    "            correct_confidences = np.sum(\n",
    "                y_pred_clipped * y_true,\n",
    "                axis = 1\n",
    "            )\n",
    "        \n",
    "        # Losses\n",
    "        negative_log_likelihoods = -np.log( correct_confidences )\n",
    "        return negative_log_likelihoods"
   ],
   "metadata": {
    "collapsed": false
   },
   "id": "6b4ceb0234d1f7e4"
  }
 ],
 "metadata": {
  "kernelspec": {
   "display_name": "Python 3",
   "language": "python",
   "name": "python3"
  },
  "language_info": {
   "codemirror_mode": {
    "name": "ipython",
    "version": 2
   },
   "file_extension": ".py",
   "mimetype": "text/x-python",
   "name": "python",
   "nbconvert_exporter": "python",
   "pygments_lexer": "ipython2",
   "version": "2.7.6"
  }
 },
 "nbformat": 4,
 "nbformat_minor": 5
}
