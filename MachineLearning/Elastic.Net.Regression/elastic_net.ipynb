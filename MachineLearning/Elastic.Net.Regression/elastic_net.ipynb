{
 "cells": [
  {
   "cell_type": "code",
   "execution_count": 8,
   "metadata": {},
   "outputs": [
    {
     "name": "stdout",
     "output_type": "stream",
     "text": [
      "Coeficientes del modelo: [ 7.10818469e-01 -1.39943417e-01 -3.96186208e-01  1.15285280e+00\n",
      "  1.28406666e+00 -9.44169969e-01  4.63248813e+00 -2.82713178e+00\n",
      "  1.33874054e-01 -1.31674584e+00 -8.70778108e-01 -1.13652018e+00\n",
      " -6.42788642e-01 -2.72574079e-01 -2.17466675e-01  1.39326933e+01\n",
      " -1.41116807e+00 -2.18378397e+00  0.00000000e+00  1.29915198e+00\n",
      "  2.94084154e-02 -2.50936314e+00 -3.88599778e-01 -1.12931281e+00\n",
      " -1.26606551e+00 -6.88937044e-01  0.00000000e+00  1.91652511e+00\n",
      " -9.41031426e-01  7.90239421e-02 -6.73572899e-01  1.35996350e+00\n",
      "  1.47395374e-01  0.00000000e+00 -9.07214746e-01 -5.62499160e-01\n",
      "  1.29866304e+00 -2.92241224e-01  8.74777009e-01  0.00000000e+00\n",
      " -5.60437789e-01 -5.94470300e-01 -5.37694006e-01 -0.00000000e+00\n",
      " -1.24509451e+00 -1.35084583e+00 -5.20438211e-01  3.49467607e+01\n",
      "  1.50860059e+00 -2.59596309e+00  0.00000000e+00 -2.47052009e-01\n",
      "  6.51538613e-01  6.89066872e-01  0.00000000e+00 -5.20633176e-01\n",
      "  5.29872503e+01 -1.51018428e+00  0.00000000e+00  7.96951363e-01\n",
      "  2.12755710e-01  0.00000000e+00 -1.89635469e-01 -4.00386743e-01\n",
      " -1.45148214e+00  6.55619665e-01 -0.00000000e+00 -1.38364911e+00\n",
      " -0.00000000e+00 -2.34518548e+00 -4.39730677e-01  6.67607913e-02\n",
      " -0.00000000e+00  1.78591783e+01  5.88681323e-01 -1.15809396e+00\n",
      " -0.00000000e+00 -2.05576526e-01 -1.29725704e+00 -3.74795518e-01\n",
      "  4.24333687e+01  8.75978839e-01 -4.07478800e-01  0.00000000e+00\n",
      " -0.00000000e+00  4.94308281e+01  1.10351655e+00  1.58527275e+01\n",
      "  0.00000000e+00 -1.48524882e-01  3.77646301e+01 -5.91088176e-01\n",
      " -9.09714770e-03 -0.00000000e+00  1.35531219e+00  1.13970671e-02\n",
      " -0.00000000e+00 -0.00000000e+00 -1.87707133e+00 -2.05700613e+00]\n",
      "Intercepto del modelO: -1.4538450253748525\n",
      "Error cuadrático medio del modelo: 4073.6345354960094\n"
     ]
    }
   ],
   "source": [
    "import numpy as np\n",
    "from sklearn.datasets import make_regression\n",
    "from sklearn.linear_model import ElasticNet\n",
    "from sklearn.model_selection import train_test_split\n",
    "from sklearn.metrics import mean_squared_error\n",
    "\n",
    "# Generación de datos sintéticos.\n",
    "X, y = make_regression(\n",
    "  n_samples = 1000, \n",
    "  n_features = 100,\n",
    "  noise = 0.1, \n",
    "  random_state = 42\n",
    ")\n",
    "\n",
    "# Dividir los datos en conjuntos de \n",
    "# entrenamiento y prueba\n",
    "X_train, X_test, y_train, y_test = train_test_split( \n",
    "  X, y, test_size = 0.2, random_state = 42\n",
    ")\n",
    "\n",
    "# Creación y ajuste del modelo Estatic Net\n",
    "# Alpha es el parámetro que combina las penalizaciones \n",
    "# L1 y L2, y l1_ratio indica la proporción entre \n",
    "# L1 y L2\n",
    "elastic_net_model = ElasticNet(\n",
    "  alpha = 1.0, l1_ratio = 0.5, random_state = 42\n",
    ")\n",
    "elastic_net_model.fit( X_train, y_train )\n",
    "\n",
    "# Predecir y calcular el error cuadrático medio \n",
    "y_pred = elastic_net_model.predict( X_test )\n",
    "mse = mean_squared_error( y_test, y_pred )\n",
    "\n",
    "print( f\"Coeficientes del modelo: {elastic_net_model.coef_}\" )\n",
    "print( f\"Intercepto del modelO: {elastic_net_model.intercept_}\" )\n",
    "print( f\"Error cuadrático medio del modelo: {mse}\" )"
   ]
  },
  {
   "cell_type": "code",
   "execution_count": 13,
   "metadata": {},
   "outputs": [
    {
     "name": "stdout",
     "output_type": "stream",
     "text": [
      "Coeficiente del modelo: [  1.89547498 -10.86530394  25.75123649  15.96650275 -11.90651978\n",
      "  -0.          -6.6348903    8.16844062  22.33004461   2.8665916 ]\n",
      "Intercepto del modelo: 151.35899834637934\n",
      "Error cuadrático medio del modelo: 2870.615569524016\n"
     ]
    }
   ],
   "source": [
    "import numpy as np\n",
    "from sklearn.datasets import load_diabetes\n",
    "from sklearn.linear_model import ElasticNet\n",
    "from sklearn.model_selection import train_test_split\n",
    "from sklearn.metrics import mean_squared_error\n",
    "from sklearn.preprocessing import StandardScaler\n",
    "\n",
    "# Cargar conjunto de datos de Diabetes\n",
    "data = load_diabetes()\n",
    "X = data.data\n",
    "y = data.target\n",
    "\n",
    "# Normalizar las características para mejorar \n",
    "# el rendimiento del modelo Elastic Net\n",
    "scaler = StandardScaler()\n",
    "X_scaled = scaler.fit_transform(X)\n",
    "\n",
    "# Dividir los datos en conjuntos de entrenamiento y prueba\n",
    "X_train, X_test, y_train, y_test = train_test_split(\n",
    "  X_scaled, y, test_size = 0.2, random_state = 42 \n",
    ")\n",
    "\n",
    "# Crear y ajustar el modelo Elastic Net\n",
    "elastic_net = ElasticNet( \n",
    "  alpha = 0.1, l1_ratio = 0.7, random_state = 42 \n",
    ")\n",
    "elastic_net.fit( X_train, y_train )\n",
    "\n",
    "# Predecir y calcular el error cuadrático medio\n",
    "y_pred = elastic_net.predict( X_test )\n",
    "mse = mean_squared_error( y_test, y_pred )\n",
    "\n",
    "print( f\"Coeficiente del modelo: {elastic_net.coef_}\" )\n",
    "print( f\"Intercepto del modelo: {elastic_net.intercept_}\" )\n",
    "print( f\"Error cuadrático medio del modelo: {mse}\" )"
   ]
  }
 ],
 "metadata": {
  "kernelspec": {
   "display_name": "TransformersML",
   "language": "python",
   "name": "python3"
  },
  "language_info": {
   "codemirror_mode": {
    "name": "ipython",
    "version": 3
   },
   "file_extension": ".py",
   "mimetype": "text/x-python",
   "name": "python",
   "nbconvert_exporter": "python",
   "pygments_lexer": "ipython3",
   "version": "3.10.12"
  }
 },
 "nbformat": 4,
 "nbformat_minor": 2
}
