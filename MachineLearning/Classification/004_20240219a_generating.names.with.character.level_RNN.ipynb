{
 "cells": [
  {
   "cell_type": "code",
   "execution_count": 31,
   "metadata": {},
   "outputs": [
    {
     "name": "stdout",
     "output_type": "stream",
     "text": [
      "Directorio: /home/xamanek/PythonProjects/ML_Transformers_001/MachineLearning/Classification\n",
      "Directorio padre: /home/xamanek/PythonProjects/ML_Transformers_001\n",
      "['/home/xamanek/PythonProjects/ML_Transformers_001/Datasets/20240215a_data/names/Czech.txt', '/home/xamanek/PythonProjects/ML_Transformers_001/Datasets/20240215a_data/names/Korean.txt', '/home/xamanek/PythonProjects/ML_Transformers_001/Datasets/20240215a_data/names/Chinese.txt', '/home/xamanek/PythonProjects/ML_Transformers_001/Datasets/20240215a_data/names/English.txt', '/home/xamanek/PythonProjects/ML_Transformers_001/Datasets/20240215a_data/names/Italian.txt', '/home/xamanek/PythonProjects/ML_Transformers_001/Datasets/20240215a_data/names/Portuguese.txt', '/home/xamanek/PythonProjects/ML_Transformers_001/Datasets/20240215a_data/names/German.txt', '/home/xamanek/PythonProjects/ML_Transformers_001/Datasets/20240215a_data/names/Japanese.txt', '/home/xamanek/PythonProjects/ML_Transformers_001/Datasets/20240215a_data/names/Vietnamese.txt', '/home/xamanek/PythonProjects/ML_Transformers_001/Datasets/20240215a_data/names/Greek.txt', '/home/xamanek/PythonProjects/ML_Transformers_001/Datasets/20240215a_data/names/Polish.txt', '/home/xamanek/PythonProjects/ML_Transformers_001/Datasets/20240215a_data/names/Irish.txt', '/home/xamanek/PythonProjects/ML_Transformers_001/Datasets/20240215a_data/names/Spanish.txt', '/home/xamanek/PythonProjects/ML_Transformers_001/Datasets/20240215a_data/names/French.txt', '/home/xamanek/PythonProjects/ML_Transformers_001/Datasets/20240215a_data/names/Dutch.txt', '/home/xamanek/PythonProjects/ML_Transformers_001/Datasets/20240215a_data/names/Russian.txt', '/home/xamanek/PythonProjects/ML_Transformers_001/Datasets/20240215a_data/names/Scottish.txt', '/home/xamanek/PythonProjects/ML_Transformers_001/Datasets/20240215a_data/names/Arabic.txt']\n"
     ]
    }
   ],
   "source": [
    "from io import open\n",
    "import glob\n",
    "import os\n",
    "import unicodedata\n",
    "import string\n",
    "import torch\n",
    "import torch.nn as nn\n",
    "import random\n",
    "import time\n",
    "import math\n",
    "import matplotlib.pyplot as plt\n",
    "import matplotlib.ticker as ticker\n",
    "\n",
    "# Current dir\n",
    "current_dir = os.getcwd()\n",
    "print( f\"Directorio: { current_dir }\" )\n",
    "# Two levels above directory\n",
    "parent_dir = os.path.abspath( os.path.join( current_dir, os.path.pardir, os.path.pardir ) )\n",
    "print( f\"Directorio padre: { parent_dir }\" )\n",
    "# Path to the data\n",
    "directory = parent_dir + \"/Datasets/20240215a_data/names/*.txt\"\n",
    "\n",
    "def findFiles( path ): return glob.glob( path )\n",
    "\n",
    "print( findFiles( directory ) )"
   ]
  },
  {
   "cell_type": "code",
   "execution_count": 32,
   "metadata": {},
   "outputs": [
    {
     "name": "stdout",
     "output_type": "stream",
     "text": [
      "# Categories:  18 ['Czech', 'Korean', 'Chinese', 'English', 'Italian', 'Portuguese', 'German', 'Japanese', 'Vietnamese', 'Greek', 'Polish', 'Irish', 'Spanish', 'French', 'Dutch', 'Russian', 'Scottish', 'Arabic']\n",
      "O'Neal\n"
     ]
    }
   ],
   "source": [
    "# Turn unicode string to plain ASCII \n",
    "def unicodeToAscii( s ):\n",
    "  return ''.join(\n",
    "    c for c in unicodedata.normalize( 'NFD', s )\n",
    "    if unicodedata.category( c ) != 'Mn'\n",
    "    and c in all_letters # This variable must be local and not being accessed from the global scope\n",
    "  )\n",
    "\n",
    "# Read a file and split into lines \n",
    "def readLines(filename):\n",
    "  with open( filename, encoding = 'utf-8' ) as some_file:\n",
    "    return [ unicodeToAscii( line.strip() ) for line in some_file ]\n",
    "\n",
    "all_letters = string.ascii_letters + \" .,;'-\"\n",
    "n_letters = len( all_letters ) + 1 # Plus EOS marker\n",
    "\n",
    "# Build the category_lines dictionary, a list of lines per category \n",
    "category_lines = {}\n",
    "all_categories = []\n",
    "for filename in findFiles( directory ):\n",
    "  category = os.path.splitext( os.path.basename( filename ) )[0]\n",
    "  all_categories.append( category )\n",
    "  lines = readLines( filename )\n",
    "  category_lines[ category ] = lines\n",
    "\n",
    "n_categories = len( all_categories )\n",
    "\n",
    "if n_categories == 0:\n",
    "  raise RuntimeError( 'Data not found. Make sure thata you downloaded data ' \n",
    "                     'from https://download.pytorch.org/tutorial/data.zip and'\n",
    "                     'extract it to the current directory.')\n",
    "\n",
    "print( '# Categories: ', n_categories, all_categories )\n",
    "print( unicodeToAscii( \"O'Néàl\" ) )\n",
    "\n"
   ]
  },
  {
   "cell_type": "code",
   "execution_count": 33,
   "metadata": {},
   "outputs": [],
   "source": [
    "class RNN( nn.Module ):\n",
    "  def __init__(self, input_size, hidden_size, output_size ):\n",
    "    super( RNN, self ).__init__()\n",
    "    self.hidden_size = hidden_size\n",
    "\n",
    "    self.i2h = nn.Linear( n_categories + input_size + hidden_size, hidden_size )\n",
    "    self.i2o = nn.Linear( n_categories + input_size + hidden_size, output_size )\n",
    "    self.o2o = nn.Linear( hidden_size + output_size, output_size )\n",
    "    self.dropout = nn.Dropout( 0.1 )\n",
    "    self.softmax = nn.LogSoftmax( dim = 1 )\n",
    "\n",
    "  def forward( self, category, input, hidden ):\n",
    "    input_combined = torch.cat( ( category, input, hidden ), 1 )\n",
    "    hidden = self.i2h( input_combined )\n",
    "    output = self.i2o( input_combined )\n",
    "    output_combined = torch.cat( ( hidden, output ), 1 )\n",
    "    output = self.o2o( output_combined )\n",
    "    output = self.dropout( output )\n",
    "    output = self.softmax( output )\n",
    "    return output, hidden\n",
    "  \n",
    "  def initHidden( self ):\n",
    "    return torch.zeros( 1, self.hidden_size )\n",
    "  "
   ]
  },
  {
   "cell_type": "code",
   "execution_count": 34,
   "metadata": {},
   "outputs": [],
   "source": [
    "# Random item from a list \n",
    "def randomChoice( l ):\n",
    "  return l[ random.randint( 0, len( l ) - 1 ) ]\n",
    "\n",
    "# Get a random category and random line from that category\n",
    "def randomTrainingPair():\n",
    "  category = randomChoice( all_categories )\n",
    "  line = randomChoice( category_lines[ category ] )\n",
    "  return category, line\n",
    "\n"
   ]
  },
  {
   "cell_type": "code",
   "execution_count": 36,
   "metadata": {},
   "outputs": [],
   "source": [
    "# One-hot vector for category \n",
    "def categoryTensor( category ):\n",
    "  li = all_categories.index( category )\n",
    "  tensor = torch.zeros( 1, n_categories )\n",
    "  tensor[ 0 ][ li ] = 1\n",
    "  return tensor\n",
    "\n",
    "# One-hot matrix of first to last letters (not including EOS) for input \n",
    "def inputTensor( line ):\n",
    "  tensor = torch.zeros( len( line ), 1, n_letters )\n",
    "  for li in range( len( line ) ):\n",
    "    letter = line[ li ]\n",
    "    tensor[ li ][ 0 ][ all_letters.find( letter ) ] = 1\n",
    "  return tensor\n",
    "\n",
    "# ''LongTensor'' of second letter to end (EOS) for target \n",
    "def targetTensor( line ):\n",
    "  letter_indexes = [ all_letters.find( line[ li ] ) for li in range( 1, len( line ) ) ]\n",
    "  letter_indexes.append( n_letters - 1 ) # EOS\n",
    "  return torch.LongTensor( letter_indexes )\n"
   ]
  },
  {
   "cell_type": "code",
   "execution_count": 37,
   "metadata": {},
   "outputs": [],
   "source": [
    "# Make category, input and target tensors from a random category, line pair \n",
    "def randomTrainingExample():\n",
    "  category, line = randomTrainingPair()\n",
    "  category_tensor = categoryTensor( category )\n",
    "  input_line_tensor = inputTensor( line )\n",
    "  target_line_tensor = targetTensor( line )\n",
    "  return category_tensor, input_line_tensor, target_line_tensor"
   ]
  },
  {
   "cell_type": "markdown",
   "metadata": {},
   "source": []
  },
  {
   "cell_type": "code",
   "execution_count": 38,
   "metadata": {},
   "outputs": [],
   "source": [
    "criterion = nn.NLLLoss()\n",
    "\n",
    "learning_rate = 0.0005\n",
    "\n",
    "def train( category_tensor, input_line_tensor, target_line_tensor ):\n",
    "  target_line_tensor.unsqueeze_(-1)\n",
    "  hidden = rnn.initHidden()\n",
    "\n",
    "  rnn.zero_grad() # this should be a local variable and not access a global scope variable\n",
    "\n",
    "  loss = torch.Tensor( [ 0 ] ) # It can also use ''loss = 0''\n",
    "\n",
    "  for i in range( input_line_tensor.size( 0 ) ):\n",
    "    output, hidden = rnn( category_tensor, input_line_tensor[ i ], hidden )\n",
    "    l = criterion( output, target_line_tensor[ i ] )\n",
    "    loss += l\n",
    "\n",
    "  loss.backward()\n",
    "\n",
    "  for p in rnn.parameters():\n",
    "    p.data.add_( p.grad.data, alpha = -learning_rate )\n",
    "\n",
    "  return output, loss.item() / input_line_tensor.size( 0 )"
   ]
  },
  {
   "cell_type": "code",
   "execution_count": 41,
   "metadata": {},
   "outputs": [],
   "source": [
    "def timeSince( since ):\n",
    "  now = time.time()\n",
    "  s = now - since \n",
    "  m = math.floor( s / 60 )\n",
    "  s -= m * 60\n",
    "  return '%dm %ds' % ( m, s )\n"
   ]
  },
  {
   "cell_type": "code",
   "execution_count": 42,
   "metadata": {},
   "outputs": [
    {
     "name": "stdout",
     "output_type": "stream",
     "text": [
      "0m 11s ( 5000 5% ) 2.5909\n",
      "0m 23s ( 10000 10% ) 2.8361\n",
      "0m 34s ( 15000 15% ) 3.0155\n",
      "0m 45s ( 20000 20% ) 2.1071\n",
      "0m 56s ( 25000 25% ) 2.1845\n",
      "1m 8s ( 30000 30% ) 1.8742\n",
      "1m 19s ( 35000 35% ) 2.4737\n",
      "1m 30s ( 40000 40% ) 2.3592\n",
      "1m 41s ( 45000 45% ) 3.5806\n",
      "1m 52s ( 50000 50% ) 3.1656\n",
      "2m 3s ( 55000 55% ) 2.0257\n",
      "2m 15s ( 60000 60% ) 2.6662\n",
      "2m 26s ( 65000 65% ) 2.2241\n",
      "2m 37s ( 70000 70% ) 2.4730\n",
      "2m 48s ( 75000 75% ) 2.2757\n",
      "3m 0s ( 80000 80% ) 2.3889\n",
      "3m 10s ( 85000 85% ) 2.3911\n",
      "3m 22s ( 90000 90% ) 2.4076\n",
      "3m 33s ( 95000 95% ) 2.5896\n",
      "3m 44s ( 100000 100% ) 2.1962\n"
     ]
    }
   ],
   "source": [
    "rnn = RNN(n_letters, 128, n_letters)\n",
    "\n",
    "n_iters = 100000\n",
    "print_every = 5000\n",
    "plot_every = 500\n",
    "all_losses = []\n",
    "total_loss = 0 # Reset every ''plot_every'' ''iters'' \n",
    "\n",
    "start = time.time()\n",
    "\n",
    "for iter in range( 1, n_iters + 1 ):\n",
    "  output, loss = train( *randomTrainingExample() )\n",
    "  total_loss += loss \n",
    "\n",
    "  if iter % print_every == 0:\n",
    "    print( '%s ( %d %d%% ) %.4f' % ( timeSince( start ), iter, iter / n_iters * 100, loss ) )\n",
    "\n",
    "  if iter % plot_every == 0:\n",
    "    all_losses.append( total_loss / plot_every )\n",
    "    total_loss = 0 "
   ]
  },
  {
   "cell_type": "code",
   "execution_count": 43,
   "metadata": {},
   "outputs": [
    {
     "data": {
      "text/plain": [
       "[<matplotlib.lines.Line2D at 0x770e31e2c160>]"
      ]
     },
     "execution_count": 43,
     "metadata": {},
     "output_type": "execute_result"
    },
    {
     "data": {
      "image/png": "[encoded data removed]",
      "text/plain": [
       "<Figure size 640x480 with 1 Axes>"
      ]
     },
     "metadata": {},
     "output_type": "display_data"
    }
   ],
   "source": [
    "plt.figure()\n",
    "plt.plot( all_losses )"
   ]
  },
  {
   "cell_type": "code",
   "execution_count": 45,
   "metadata": {},
   "outputs": [
    {
     "name": "stdout",
     "output_type": "stream",
     "text": [
      "Roveri\n",
      "Uakoveve\n",
      "Santos\n",
      "\n",
      "\n",
      "Gerter\n",
      "Erenger\n",
      "Roure\n",
      "\n",
      "\n",
      "Sertan\n",
      "Paner\n",
      "Alla\n",
      "\n",
      "\n",
      "Chan\n",
      "Han\n",
      "Iung\n",
      "\n",
      "\n"
     ]
    }
   ],
   "source": [
    "max_length = 20\n",
    "\n",
    "def sample( category, start_letter = 'A' ):\n",
    "  with torch.no_grad():\n",
    "    category_tensor = categoryTensor( category )\n",
    "    input = inputTensor( start_letter )\n",
    "    hidden = rnn.initHidden()\n",
    "\n",
    "    output_name = start_letter\n",
    "\n",
    "    for i in range( max_length ):\n",
    "      output, hidden = rnn( category_tensor, input[ 0 ], hidden )\n",
    "      topv, topi = output.topk( 1 )\n",
    "      topi = topi[ 0 ][ 0 ]\n",
    "      if topi == n_letters - 1:\n",
    "        break\n",
    "      else:\n",
    "        letter = all_letters[ topi ]\n",
    "        output_name += letter\n",
    "      input = inputTensor( letter )\n",
    "    \n",
    "    return output_name\n",
    "  \n",
    "def samples( category, start_letters = 'ABC' ):\n",
    "  for start_letter in start_letters:\n",
    "    print( sample( category, start_letter ) )\n",
    "\n",
    "samples( 'Russian', 'RUS' )\n",
    "print('\\n')\n",
    "samples( 'German', 'GER' )\n",
    "print('\\n')\n",
    "samples( 'Spanish', 'SPA' )\n",
    "print('\\n')\n",
    "samples( 'Chinese', 'CHI' )\n",
    "print('\\n')"
   ]
  }
 ],
 "metadata": {
  "kernelspec": {
   "display_name": "Transformer001",
   "language": "python",
   "name": "python3"
  },
  "language_info": {
   "codemirror_mode": {
    "name": "ipython",
    "version": 3
   },
   "file_extension": ".py",
   "mimetype": "text/x-python",
   "name": "python",
   "nbconvert_exporter": "python",
   "pygments_lexer": "ipython3",
   "version": "3.10.12"
  }
 },
 "nbformat": 4,
 "nbformat_minor": 2
}
