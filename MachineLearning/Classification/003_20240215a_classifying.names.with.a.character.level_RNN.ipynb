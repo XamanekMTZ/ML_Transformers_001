{
 "cells": [
  {
   "cell_type": "code",
   "execution_count": 13,
   "metadata": {},
   "outputs": [
    {
     "name": "stdout",
     "output_type": "stream",
     "text": [
      "Directorio: /home/xamanek/PythonProjects/ML_Transformers_001/MachineLearning/Classification\n",
      "Directorio padre: /home/xamanek/PythonProjects/ML_Transformers_001\n",
      "['/home/xamanek/PythonProjects/ML_Transformers_001/Datasets/20240215a_data/names/Czech.txt', '/home/xamanek/PythonProjects/ML_Transformers_001/Datasets/20240215a_data/names/Korean.txt', '/home/xamanek/PythonProjects/ML_Transformers_001/Datasets/20240215a_data/names/Chinese.txt', '/home/xamanek/PythonProjects/ML_Transformers_001/Datasets/20240215a_data/names/English.txt', '/home/xamanek/PythonProjects/ML_Transformers_001/Datasets/20240215a_data/names/Italian.txt', '/home/xamanek/PythonProjects/ML_Transformers_001/Datasets/20240215a_data/names/Portuguese.txt', '/home/xamanek/PythonProjects/ML_Transformers_001/Datasets/20240215a_data/names/German.txt', '/home/xamanek/PythonProjects/ML_Transformers_001/Datasets/20240215a_data/names/Japanese.txt', '/home/xamanek/PythonProjects/ML_Transformers_001/Datasets/20240215a_data/names/Vietnamese.txt', '/home/xamanek/PythonProjects/ML_Transformers_001/Datasets/20240215a_data/names/Greek.txt', '/home/xamanek/PythonProjects/ML_Transformers_001/Datasets/20240215a_data/names/Polish.txt', '/home/xamanek/PythonProjects/ML_Transformers_001/Datasets/20240215a_data/names/Irish.txt', '/home/xamanek/PythonProjects/ML_Transformers_001/Datasets/20240215a_data/names/Spanish.txt', '/home/xamanek/PythonProjects/ML_Transformers_001/Datasets/20240215a_data/names/French.txt', '/home/xamanek/PythonProjects/ML_Transformers_001/Datasets/20240215a_data/names/Dutch.txt', '/home/xamanek/PythonProjects/ML_Transformers_001/Datasets/20240215a_data/names/Russian.txt', '/home/xamanek/PythonProjects/ML_Transformers_001/Datasets/20240215a_data/names/Scottish.txt', '/home/xamanek/PythonProjects/ML_Transformers_001/Datasets/20240215a_data/names/Arabic.txt']\n"
     ]
    }
   ],
   "source": [
    "from io import open\n",
    "import glob\n",
    "import os\n",
    "import unicodedata\n",
    "import string\n",
    "import torch\n",
    "import torch.nn as nn\n",
    "import random\n",
    "import time\n",
    "import math\n",
    "import matplotlib.pyplot as plt\n",
    "import matplotlib.ticker as ticker\n",
    "\n",
    "\n",
    "# Current dir \n",
    "current_dir = os.getcwd()\n",
    "print( f\"Directorio: { current_dir }\" )\n",
    "# Two levels above directory\n",
    "parent_dir = os.path.abspath( os.path.join( current_dir, os.path.pardir, os.path.pardir ) )\n",
    "print( f\"Directorio padre: { parent_dir }\" )\n",
    "# Path to the data\n",
    "directory = parent_dir + \"/Datasets/20240215a_data/names/*.txt\"\n",
    "\n",
    "def findFiles( path ): return glob.glob( path )\n",
    "\n",
    "print( findFiles( directory ))"
   ]
  },
  {
   "cell_type": "code",
   "execution_count": 9,
   "metadata": {},
   "outputs": [],
   "source": [
    "# Turn a Unicode string to plain ASCII\n",
    "def unicodeToAscii( s ):\n",
    "  return ''.join(\n",
    "    c for c in unicodedata.normalize('NFD', s)\n",
    "    if unicodedata.category(c) != 'Mn'\n",
    "    and c in all_letters # this last variable must not be a global variable and must be defined in the same scope as this function\n",
    "  )\n",
    "\n",
    "# Read a file and split into lines \n",
    "def readLines( filename ):\n",
    "  lines = open( filename, encoding = 'utf-8' ).read().strip().split( '\\n' )\n",
    "  return [ unicodeToAscii( line ) for line in lines ]\n",
    "\n"
   ]
  },
  {
   "cell_type": "code",
   "execution_count": 10,
   "metadata": {},
   "outputs": [
    {
     "name": "stdout",
     "output_type": "stream",
     "text": [
      "Slusarski\n"
     ]
    }
   ],
   "source": [
    "all_letters = string.ascii_letters + \" .,;'\"\n",
    "n_letters = len( all_letters )\n",
    "\n",
    "print( unicodeToAscii( 'Ślusàrski' ) )\n",
    "\n",
    "# Build the category_lines dictionary, a list of names per language\n",
    "category_lines = {}\n",
    "all_categories = []\n",
    "\n",
    "for filename in findFiles( directory ):\n",
    "  category = os.path.splitext( os.path.basename( filename ) )[0]\n",
    "  all_categories.append( category )\n",
    "  lines = readLines( filename )\n",
    "  category_lines[ category ] = lines\n",
    "\n",
    "n_categories = len( all_categories )"
   ]
  },
  {
   "cell_type": "code",
   "execution_count": 11,
   "metadata": {},
   "outputs": [
    {
     "name": "stdout",
     "output_type": "stream",
     "text": [
      "['Abandonato', 'Abatangelo', 'Abatantuono', 'Abate', 'Abategiovanni']\n"
     ]
    }
   ],
   "source": [
    "print( category_lines[ 'Italian' ][ :5 ] )"
   ]
  },
  {
   "cell_type": "code",
   "execution_count": 14,
   "metadata": {},
   "outputs": [
    {
     "name": "stdout",
     "output_type": "stream",
     "text": [
      "tensor([[0., 0., 0., 0., 0., 0., 0., 0., 0., 0., 0., 0., 0., 0., 0., 0., 0., 0.,\n",
      "         0., 0., 0., 0., 0., 0., 0., 0., 0., 0., 0., 0., 0., 0., 0., 0., 0., 1.,\n",
      "         0., 0., 0., 0., 0., 0., 0., 0., 0., 0., 0., 0., 0., 0., 0., 0., 0., 0.,\n",
      "         0., 0., 0.]])\n",
      "torch.Size([5, 1, 57])\n"
     ]
    }
   ],
   "source": [
    "# Find letter index from all_letters, eg \"a\" = 0\n",
    "def letterToIndex( letter ):\n",
    "  return all_letters.find( letter )\n",
    "\n",
    "# Just for demo, turn a letter into a <1 x n_letters> tensor\n",
    "def letterToTensor( letter ):\n",
    "  tensor = torch.zeros( 1, n_letters )\n",
    "  tensor[ 0 ][ letterToIndex( letter ) ] = 1\n",
    "  return tensor\n",
    "\n",
    "# Turn a line into a <line_length x 1 x n_letters>, \n",
    "# or an array of one-hot letter vectors\n",
    "def lineToTensor( line ):\n",
    "  tensor = torch.zeros( len( line ), 1, n_letters )\n",
    "  for li, letter in enumerate( line ):\n",
    "    tensor[ li ][ 0 ][ letterToIndex( letter ) ] = 1\n",
    "  return tensor\n",
    "\n",
    "print( letterToTensor( 'J' ) )\n",
    "\n",
    "print( lineToTensor( 'Jones' ).size() )"
   ]
  },
  {
   "cell_type": "code",
   "execution_count": 15,
   "metadata": {},
   "outputs": [],
   "source": [
    "class RNN( nn.Module ):\n",
    "  def __init__( self, input_size, hidden_size, output_size ):\n",
    "    super( RNN, self ).__init__()\n",
    "\n",
    "    self.hidden_size = hidden_size\n",
    "\n",
    "    self.i2h = nn.Linear( input_size + hidden_size, hidden_size )\n",
    "    self.h2o = nn.Linear( hidden_size, output_size )\n",
    "    self.softmax = nn.LogSoftmax( dim = 1 )\n",
    "\n",
    "\n",
    "  def forward( self, input, hidden ):\n",
    "    combined = torch.cat( ( input, hidden ), 1 )\n",
    "    hidden = self.i2h( combined )\n",
    "    output = self.h2o( hidden )\n",
    "    output = self.softmax( output )\n",
    "    return output, hidden\n",
    "  \n",
    "  def initHidden( self ):\n",
    "    return torch.zeros( 1, self.hidden_size )\n",
    "  \n",
    "n_hidden = 128\n",
    "rnn = RNN( n_letters, n_hidden, n_categories )"
   ]
  },
  {
   "cell_type": "code",
   "execution_count": 16,
   "metadata": {},
   "outputs": [],
   "source": [
    "input = letterToTensor( 'A' )\n",
    "hidden = torch.zeros( 1, n_hidden )\n",
    "output, next_hidden = rnn( input, hidden )"
   ]
  },
  {
   "cell_type": "code",
   "execution_count": 41,
   "metadata": {},
   "outputs": [
    {
     "name": "stdout",
     "output_type": "stream",
     "text": [
      "tensor([[-2.9699, -2.8840, -2.9289, -2.8141, -2.9308, -2.8864, -2.9592, -2.9137,\n",
      "         -2.8650, -2.8599, -2.8308, -2.9014, -2.9313, -2.8881, -2.9007, -2.8587,\n",
      "         -2.8936, -2.8265]], grad_fn=<LogSoftmaxBackward0>)\n"
     ]
    }
   ],
   "source": [
    "input = lineToTensor( 'Albert' )\n",
    "hidden = torch.zeros( 1, n_hidden )\n",
    "\n",
    "output, next_hidden = rnn( input[ 0 ], hidden )\n",
    "print( output )"
   ]
  },
  {
   "cell_type": "code",
   "execution_count": null,
   "metadata": {},
   "outputs": [],
   "source": []
  },
  {
   "cell_type": "markdown",
   "metadata": {},
   "source": [
    "Prepare for Training"
   ]
  },
  {
   "cell_type": "markdown",
   "metadata": {},
   "source": []
  },
  {
   "cell_type": "code",
   "execution_count": 42,
   "metadata": {},
   "outputs": [
    {
     "name": "stdout",
     "output_type": "stream",
     "text": [
      "('English', 3)\n"
     ]
    }
   ],
   "source": [
    "def categoryFromOutput( output ):\n",
    "  top_n, top_i = output.topk( 1 )\n",
    "  category_i = top_i[ 0 ].item()\n",
    "  return all_categories[ category_i ], category_i\n",
    "\n",
    "print( categoryFromOutput( output ) )"
   ]
  },
  {
   "cell_type": "code",
   "execution_count": 44,
   "metadata": {},
   "outputs": [
    {
     "name": "stdout",
     "output_type": "stream",
     "text": [
      "category =  Portuguese / line =  Ventura\n",
      "category =  Italian / line =  Rossini\n",
      "category =  Scottish / line =  Macleod\n",
      "category =  Dutch / line =  Vann\n",
      "category =  Vietnamese / line =  Vuong\n",
      "category =  Arabic / line =  Nader\n",
      "category =  Russian / line =  Obolsky\n",
      "category =  Chinese / line =  Sum\n",
      "category =  Greek / line =  Vlahos\n",
      "category =  Polish / line =  Szweda\n"
     ]
    }
   ],
   "source": [
    "def randomChoice( l ):\n",
    "  return l[ random.randint( 0, len( l ) -1 ) ]\n",
    "\n",
    "def randomTrainingExample():\n",
    "  category = randomChoice( all_categories )\n",
    "  line = randomChoice( category_lines[ category ] )\n",
    "  category_tensor = torch.tensor( [ all_categories.index( category ) ], dtype = torch.long )\n",
    "  line_tensor = lineToTensor( line )\n",
    "  return category, line, category_tensor, line_tensor\n",
    "\n",
    "for i in range( 10 ):\n",
    "  category, line, category_tensor, line_tensor = randomTrainingExample()\n",
    "  print( 'category = ', category, '/ line = ', line )"
   ]
  },
  {
   "cell_type": "code",
   "execution_count": 45,
   "metadata": {},
   "outputs": [],
   "source": [
    "criterion = nn.NLLLoss()"
   ]
  },
  {
   "cell_type": "code",
   "execution_count": 46,
   "metadata": {},
   "outputs": [],
   "source": [
    "# If you set this too high, it might explode. If too low, it might not learn\n",
    "learning_rate = 0.005\n",
    "\n",
    "def train( category_tensor, line_tensor ):\n",
    "  hidden = rnn.initHidden()\n",
    "\n",
    "  rnn.zero_grad()\n",
    "\n",
    "  for i in range( line_tensor.size()[0] ):\n",
    "    output, hidden = rnn( line_tensor[ i ], hidden ) \n",
    "  \n",
    "  loss = criterion( output, category_tensor )\n",
    "  loss.backward()\n",
    "\n",
    "  # Add parameters' gradients to their values, multiplied by learning rate\n",
    "  for p in rnn.parameters():\n",
    "    p.data.add_( p.grad.data, alpha = -learning_rate )\n",
    "\n",
    "  return output, loss.item()"
   ]
  },
  {
   "cell_type": "code",
   "execution_count": 47,
   "metadata": {},
   "outputs": [
    {
     "name": "stdout",
     "output_type": "stream",
     "text": [
      "5000 5% (0m 3s) 2.5219 Chu / Vietnamese ✓\n",
      "10000 10% (0m 6s) 1.5354 Vinh / Chinese ✗ (Vietnamese)\n",
      "15000 15% (0m 10s) 1.6776 Cabrera / Portuguese ✗ (Spanish)\n",
      "20000 20% (0m 13s) 2.5132 Ngai / Chinese ✗ (Korean)\n",
      "25000 25% (0m 16s) 2.3526 Worrall / Scottish ✗ (English)\n",
      "30000 30% (0m 20s) 1.3042 Zhuo / Vietnamese ✗ (Chinese)\n",
      "35000 35% (0m 23s) 1.8639 Hoyle / Irish ✗ (English)\n",
      "40000 40% (0m 26s) 0.8991 Santos / Portuguese ✓\n",
      "45000 45% (0m 30s) 0.3197 Bonnaire / French ✓\n",
      "50000 50% (0m 33s) 1.7826 Colman / English ✓\n",
      "55000 55% (0m 36s) 2.8827 Leeuwenhoek / Polish ✗ (Dutch)\n",
      "60000 60% (0m 40s) 1.1458 Nigro / Portuguese ✗ (Italian)\n",
      "65000 65% (0m 43s) 0.5037 Aswad / Arabic ✓\n",
      "70000 70% (0m 46s) 1.0310 Chu / Vietnamese ✓\n",
      "75000 75% (0m 50s) 2.3927 De la fontaine / Portuguese ✗ (French)\n",
      "80000 80% (0m 53s) 1.7760 Djigit / French ✗ (Russian)\n",
      "85000 85% (0m 57s) 1.3173 Pellegrino / Spanish ✗ (Italian)\n",
      "90000 90% (1m 0s) 0.0765 Kozlowski / Polish ✓\n",
      "95000 95% (1m 4s) 0.0948 Kyritsis / Greek ✓\n",
      "100000 100% (1m 7s) 2.7668 Genda / Spanish ✗ (Japanese)\n"
     ]
    }
   ],
   "source": [
    "n_iters = 100000\n",
    "print_every = 5000\n",
    "plot_every = 1000\n",
    "\n",
    "# Keep track of losses for plotting\n",
    "current_loss = 0\n",
    "all_losses = []\n",
    "\n",
    "def timeSince( since ):\n",
    "  now = time.time()\n",
    "  s = now - since\n",
    "  m = math.floor( s / 60 )\n",
    "  s -= m * 60\n",
    "  return '%dm %ds' % ( m, s )\n",
    "\n",
    "start = time.time()\n",
    "\n",
    "for iter in range( 1, n_iters + 1 ):\n",
    "  category, line, category_tensor, line_tensor = randomTrainingExample()\n",
    "  output, loss = train( category_tensor, line_tensor )\n",
    "  current_loss += loss\n",
    "\n",
    "  # Print ''iter'' number, loss, name and guess\n",
    "  if iter % print_every == 0:\n",
    "    guess, guess_i = categoryFromOutput( output )\n",
    "    correct = '✓' if guess == category else '✗ (%s)' % category\n",
    "    print( '%d %d%% (%s) %.4f %s / %s %s' % ( iter, iter / n_iters * 100, timeSince( start ), loss, line, guess, correct ) )\n",
    "\n",
    "  # Add current loss avg to list of losses \n",
    "  if iter % plot_every == 0:\n",
    "    all_losses.append( current_loss / plot_every )\n",
    "    current_loss = 0\n"
   ]
  },
  {
   "cell_type": "code",
   "execution_count": 48,
   "metadata": {},
   "outputs": [
    {
     "data": {
      "text/plain": [
       "[<matplotlib.lines.Line2D at 0x7ba75d8f7df0>]"
      ]
     },
     "execution_count": 48,
     "metadata": {},
     "output_type": "execute_result"
    },
    {
     "data": {
      "image/png": "[encoded data removed]",
      "text/plain": [
       "<Figure size 640x480 with 1 Axes>"
      ]
     },
     "metadata": {},
     "output_type": "display_data"
    }
   ],
   "source": [
    "plt.figure()\n",
    "plt.plot( all_losses )"
   ]
  },
  {
   "cell_type": "code",
   "execution_count": 49,
   "metadata": {},
   "outputs": [
    {
     "name": "stderr",
     "output_type": "stream",
     "text": [
      "/tmp/ipykernel_21836/3736229918.py:33: UserWarning: set_ticklabels() should only be used with a fixed number of ticks, i.e. after set_ticks() or using a FixedLocator.\n",
      "  ax.set_xticklabels( [''] + all_categories, rotation = 90 )\n",
      "/tmp/ipykernel_21836/3736229918.py:34: UserWarning: set_ticklabels() should only be used with a fixed number of ticks, i.e. after set_ticks() or using a FixedLocator.\n",
      "  ax.set_yticklabels( [''] + all_categories )\n"
     ]
    },
    {
     "data": {
      "image/png": "[encoded data removed]",
      "text/plain": [
       "<Figure size 640x480 with 2 Axes>"
      ]
     },
     "metadata": {},
     "output_type": "display_data"
    }
   ],
   "source": [
    "# Keep track of correct guesses in a confusion matrix\n",
    "confusion = torch.zeros( n_categories, n_categories )\n",
    "n_confusion = 10000\n",
    "\n",
    "# Just return an output given a line\n",
    "def evaluate( line_tensor ):\n",
    "  hidden = rnn.initHidden()\n",
    "\n",
    "  for i in range( line_tensor.size()[0] ):\n",
    "    output, hidden = rnn( line_tensor[i], hidden )\n",
    "\n",
    "  return output\n",
    "\n",
    "# Go through a bunch of examples and record which are correctly guessed\n",
    "for i in range( n_confusion ):\n",
    "  category, line, category_tensor, line_tensor = randomTrainingExample()\n",
    "  output = evaluate( line_tensor )\n",
    "  guess, guess_i = categoryFromOutput( output )\n",
    "  category_i = all_categories.index( category )\n",
    "  confusion[ category_i ][ guess_i ] += 1\n",
    "\n",
    "# Normalize by dividing every row by its sum\n",
    "for i in range( n_categories ):\n",
    "  confusion[i] = confusion[i] / confusion[i].sum()\n",
    "\n",
    "# Set up plot\n",
    "fig = plt.figure()\n",
    "ax = fig.add_subplot( 111 )\n",
    "cax = ax.matshow( confusion.numpy() )\n",
    "fig.colorbar( cax )\n",
    "\n",
    "# Set up axes\n",
    "ax.set_xticklabels( [''] + all_categories, rotation = 90 )\n",
    "ax.set_yticklabels( [''] + all_categories )\n",
    "\n",
    "# Force label at every tick\n",
    "ax.xaxis.set_major_locator( ticker.MultipleLocator( 1 ) )\n",
    "ax.yaxis.set_major_locator( ticker.MultipleLocator( 1 ) )\n",
    "\n",
    "# sphinx_gallery_thumbnail_number = 2\n",
    "plt.show()"
   ]
  },
  {
   "cell_type": "code",
   "execution_count": 51,
   "metadata": {},
   "outputs": [
    {
     "name": "stdout",
     "output_type": "stream",
     "text": [
      "\n",
      "> Dovesky\n",
      "(-0.43) Russian\n",
      "(-1.41) Czech\n",
      "(-2.55) Polish\n",
      "\n",
      "> Jackson\n",
      "(-0.29) Scottish\n",
      "(-1.82) English\n",
      "(-3.75) French\n",
      "\n",
      "> Satoshi\n",
      "(-0.73) Japanese\n",
      "(-0.88) Arabic\n",
      "(-2.55) Italian\n",
      "\n",
      "> Pablo\n",
      "(-0.95) Portuguese\n",
      "(-1.10) Spanish\n",
      "(-1.52) Italian\n",
      "\n",
      "> Luis\n",
      "(-1.19) Portuguese\n",
      "(-1.26) Arabic\n",
      "(-1.80) Greek\n",
      "\n",
      "> Xamanek\n",
      "(-0.50) Polish\n",
      "(-1.99) Czech\n",
      "(-2.30) Dutch\n"
     ]
    }
   ],
   "source": [
    "def predict( input_line, n_predictions = 3 ):\n",
    "  print( '\\n> %s' % input_line )\n",
    "  with torch.no_grad():\n",
    "    output = evaluate( lineToTensor( input_line ) )\n",
    "\n",
    "    # Get top N categories\n",
    "    topv, topi = output.topk( n_predictions, 1, True )\n",
    "    predictions = []\n",
    "\n",
    "    for i in range( n_predictions ):\n",
    "      value = topv[0][i].item()\n",
    "      category_index = topi[0][i].item()\n",
    "      print( '(%.2f) %s' % ( value, all_categories[category_index] ) )\n",
    "      predictions.append( [ value, all_categories[ category_index ] ] )\n",
    "\n",
    "predict( 'Dovesky' )\n",
    "predict( 'Jackson' )\n",
    "predict( 'Satoshi' )\n",
    "predict( 'Pablo' )\n",
    "predict( 'Luis' )\n",
    "predict( 'Xamanek' )"
   ]
  }
 ],
 "metadata": {
  "kernelspec": {
   "display_name": "Transformer001",
   "language": "python",
   "name": "python3"
  },
  "language_info": {
   "codemirror_mode": {
    "name": "ipython",
    "version": 3
   },
   "file_extension": ".py",
   "mimetype": "text/x-python",
   "name": "python",
   "nbconvert_exporter": "python",
   "pygments_lexer": "ipython3",
   "version": "3.10.12"
  }
 },
 "nbformat": 4,
 "nbformat_minor": 2
}
