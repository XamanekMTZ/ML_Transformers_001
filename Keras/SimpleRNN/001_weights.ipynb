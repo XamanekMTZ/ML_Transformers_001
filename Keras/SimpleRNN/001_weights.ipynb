{
 "cells": [
  {
   "cell_type": "code",
   "execution_count": 5,
   "metadata": {},
   "outputs": [],
   "source": [
    "import math\n",
    "\n",
    "from pandas import read_csv\n",
    "import numpy as np\n",
    "from tensorflow.keras.models import Sequential\n",
    "from tensorflow.keras.layers import Dense, SimpleRNN\n",
    "from sklearn.preprocessing import MinMaxScaler\n",
    "from sklearn.metrics import mean_squared_error\n",
    "import matplotlib.pyplot as plt"
   ]
  },
  {
   "cell_type": "code",
   "execution_count": 6,
   "metadata": {},
   "outputs": [],
   "source": [
    "def create_RNN( hidden_units, dense_units, input_shape, activation ):\n",
    "  model = Sequential()\n",
    "  model.add(SimpleRNN( \n",
    "    hidden_units, input_shape = input_shape, activation = activation[0] \n",
    "    ) )\n",
    "  model.add( Dense( units = dense_units, activation = activation[1] ) )\n",
    "  model.compile( loss = 'mean_squared_error', optimizer = 'adam' )\n",
    "  return model"
   ]
  },
  {
   "cell_type": "code",
   "execution_count": 17,
   "metadata": {},
   "outputs": [],
   "source": [
    "demo_model = create_RNN( 2, 1, ( 3, 1 ), activation = [ 'linear', 'linear' ] )\n",
    "\n",
    "wx = demo_model.get_weights()[0]\n",
    "wh = demo_model.get_weights()[1]\n",
    "bh = demo_model.get_weights()[2]\n",
    "wy = demo_model.get_weights()[3]\n",
    "by = demo_model.get_weights()[4]"
   ]
  },
  {
   "cell_type": "code",
   "execution_count": 18,
   "metadata": {},
   "outputs": [
    {
     "name": "stdout",
     "output_type": "stream",
     "text": [
      "wx =  [[ 0.4523412  -0.77521336]]\n",
      "wh =  [[ 0.758556  -0.651608 ]\n",
      " [-0.651608  -0.7585559]]\n",
      "bh =  [0. 0.]\n",
      "wy =  [[ 0.06616521]\n",
      " [-0.652241  ]]\n",
      "by =  [0.]\n"
     ]
    }
   ],
   "source": [
    "#print('\\n wx = ', wx, '\\n wh = ', wh, '\\n bh = ', bh, '\\n wy = ', wy, '\\n by = ', by)\n",
    "print('wx = ', wx)\n",
    "print('wh = ', wh)\n",
    "print('bh = ', bh)\n",
    "print('wy = ', wy)\n",
    "print('by = ', by)"
   ]
  }
 ],
 "metadata": {
  "kernelspec": {
   "display_name": "TransformersML",
   "language": "python",
   "name": "python3"
  },
  "language_info": {
   "codemirror_mode": {
    "name": "ipython",
    "version": 3
   },
   "file_extension": ".py",
   "mimetype": "text/x-python",
   "name": "python",
   "nbconvert_exporter": "python",
   "pygments_lexer": "ipython3",
   "version": "3.10.12"
  }
 },
 "nbformat": 4,
 "nbformat_minor": 2
}
