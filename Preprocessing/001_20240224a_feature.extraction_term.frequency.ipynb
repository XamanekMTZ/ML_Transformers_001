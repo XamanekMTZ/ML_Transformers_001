{
 "cells": [
  {
   "cell_type": "markdown",
   "metadata": {},
   "source": [
    "# Feature Extraction \n",
    "## Term Frequency  \n",
    "Term frequency is simply the ratio of the count of a word present in a sentence, to the length of the sentence.  \n",
    "This is a common focus in the processing of text data for NLP tasks, it converts a text into a matrix of numbers.  \n",
    "\"Term Frequency\" measures how many times a term appears in a document, which gives us a feature based  \n",
    "on how important is a word in a document (sentence).  \n",
    "  \n",
    "Frequency term of a word is simple the number of times a word appears in a document, divided by the total number  \n",
    "of words in the document. This normalizes the frequency, allowing the comparison of the frequency of  \n",
    "terms in documents of different lengths."
   ]
  },
  {
   "cell_type": "code",
   "execution_count": 2,
   "metadata": {},
   "outputs": [
    {
     "name": "stdout",
     "output_type": "stream",
     "text": [
      "Requirement already satisfied: scikit-learn in /home/xamanek/.virtualenvs/Transformers/lib/python3.10/site-packages (1.4.1.post1)\n",
      "Requirement already satisfied: numpy<2.0,>=1.19.5 in /home/xamanek/.virtualenvs/Transformers/lib/python3.10/site-packages (from scikit-learn) (1.26.4)\n",
      "Requirement already satisfied: scipy>=1.6.0 in /home/xamanek/.virtualenvs/Transformers/lib/python3.10/site-packages (from scikit-learn) (1.12.0)\n",
      "Requirement already satisfied: joblib>=1.2.0 in /home/xamanek/.virtualenvs/Transformers/lib/python3.10/site-packages (from scikit-learn) (1.3.2)\n",
      "Requirement already satisfied: threadpoolctl>=2.0.0 in /home/xamanek/.virtualenvs/Transformers/lib/python3.10/site-packages (from scikit-learn) (3.3.0)\n",
      "Note: you may need to restart the kernel to use updated packages.\n"
     ]
    }
   ],
   "source": [
    "# We need to install the following libraries and for this example, we will use, Scikit-Learn, Pandas\n",
    "# Install SciKit-Learn if you don't have it installed\n",
    "%pip install -U scikit-learn"
   ]
  },
  {
   "cell_type": "code",
   "execution_count": null,
   "metadata": {},
   "outputs": [],
   "source": []
  }
 ],
 "metadata": {
  "kernelspec": {
   "display_name": "Transformers",
   "language": "python",
   "name": "python3"
  },
  "language_info": {
   "codemirror_mode": {
    "name": "ipython",
    "version": 3
   },
   "file_extension": ".py",
   "mimetype": "text/x-python",
   "name": "python",
   "nbconvert_exporter": "python",
   "pygments_lexer": "ipython3",
   "version": "3.10.12"
  }
 },
 "nbformat": 4,
 "nbformat_minor": 2
}
