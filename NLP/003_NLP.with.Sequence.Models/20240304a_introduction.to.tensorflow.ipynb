{
 "cells": [
  {
   "cell_type": "markdown",
   "metadata": {},
   "source": [
    "### TensorFlow tutorial and some useful Functions  \n",
    "  \n",
    "This notebook is a tutorial for TensorFlow. I will explain the basic usage of TensorFlow and some useful functions.  \n",
    "### Table of contents\n",
    "\n",
    "1.- Import the libraries  \n",
    "2.- Load the Data  \n",
    "3.- Prepare the Data  \n",
    "4.- Create a Sequential Model  \n",
    "5.- Create a Model Using Functional API  \n",
    "6.- Train the Model  \n",
    "7.- Predict on Your Own Data  \n"
   ]
  },
  {
   "cell_type": "code",
   "execution_count": null,
   "metadata": {},
   "outputs": [],
   "source": []
  }
 ],
 "metadata": {
  "kernelspec": {
   "display_name": "TransformersML",
   "language": "python",
   "name": "python3"
  },
  "language_info": {
   "name": "python",
   "version": "3.10.12"
  }
 },
 "nbformat": 4,
 "nbformat_minor": 2
}
