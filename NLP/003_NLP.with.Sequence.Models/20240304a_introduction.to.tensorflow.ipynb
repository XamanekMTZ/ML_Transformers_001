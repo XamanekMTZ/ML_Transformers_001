{
 "cells": [
  {
   "cell_type": "markdown",
   "metadata": {},
   "source": [
    "### TensorFlow tutorial and some useful Functions  \n",
    "  \n",
    "This notebook is a tutorial for TensorFlow. I will explain the basic usage of TensorFlow and some useful functions.  \n",
    "### Table of contents\n",
    "\n",
    "1.- Import the libraries  \n",
    "2.- Load the Data  \n",
    "3.- Prepare the Data  \n",
    "4.- Create a Sequential Model  \n",
    "5.- Create a Model Using Functional API  \n",
    "6.- Train the Model  \n",
    "7.- Predict on Your Own Data  \n"
   ]
  },
  {
   "cell_type": "code",
   "execution_count": 1,
   "metadata": {},
   "outputs": [],
   "source": [
    "# Download the dataset used in this example from the following link:\n",
    "# https://www.xamanekmartinez.com/wp-content/uploads/2024/03/imdb_dataset_Files.zip\n",
    "\n",
    "# Current dir\n",
    "#current_dir = os.getcwd()\n",
    "#print( f\"Directorio: { current_dir }\" )\n",
    "# Two levels above directory\n",
    "#parent_dir = os.path.abspath( os.path.join( current_dir, os.path.pardir, os.path.pardir ) )\n",
    "#print( f\"Directorio padre: { parent_dir }\" )\n",
    "# Path to the data\n",
    "#directory = parent_dir + \"/Datasets/20240215a_data/names/*.txt\"\n",
    "\n",
    "#def findFiles( path ): return glob.glob( path )\n",
    "\n",
    "#print( findFiles( directory ) )"
   ]
  },
  {
   "cell_type": "code",
   "execution_count": 2,
   "metadata": {},
   "outputs": [
    {
     "name": "stdout",
     "output_type": "stream",
     "text": [
      "Imports successful!\n"
     ]
    }
   ],
   "source": [
    "# To silence the TensorFlow warnings, you can use the following code before importing the TensorFlow library.\n",
    "import os \n",
    "os.environ['TF_CPP_MIN_LOG_LEVEL'] = '3'\n",
    "import glob\n",
    "\n",
    "import numpy as np\n",
    "import tensorflow as tf \n",
    "from tensorflow.keras.preprocessing.text import Tokenizer\n",
    "from tensorflow.keras import layers \n",
    "from tensorflow.keras import losses \n",
    "import re\n",
    "import string\n",
    "import matplotlib.pyplot as plt\n",
    "\n",
    "print(\"Imports successful!\")"
   ]
  },
  {
   "cell_type": "code",
   "execution_count": 3,
   "metadata": {},
   "outputs": [
    {
     "name": "stdout",
     "output_type": "stream",
     "text": [
      "Random seed set to 42\n"
     ]
    }
   ],
   "source": [
    "# Select your favourite number for the random seed and reproducibility\n",
    "seed = 42\n",
    "\n",
    "# Sets the global random seed for numpy.\n",
    "np.random.seed(seed)\n",
    "\n",
    "# Sets the global random seed for TensorFlow\n",
    "tf.random.set_seed(seed)\n",
    "\n",
    "print(f\"Random seed set to {seed}\")"
   ]
  },
  {
   "cell_type": "markdown",
   "metadata": {},
   "source": [
    "### Load the data"
   ]
  },
  {
   "cell_type": "code",
   "execution_count": 4,
   "metadata": {},
   "outputs": [],
   "source": [
    "data_dir = './data_2/aclImdb'"
   ]
  },
  {
   "cell_type": "code",
   "execution_count": 5,
   "metadata": {},
   "outputs": [
    {
     "name": "stdout",
     "output_type": "stream",
     "text": [
      "Found 5000 files belonging to 2 classes.\n",
      "Using 4000 files for training.\n",
      "Found 5000 files belonging to 2 classes.\n",
      "Using 1000 files for validation.\n",
      "Found 5000 files belonging to 2 classes.\n"
     ]
    }
   ],
   "source": [
    "# Here you have two main directories: one for train and one for test data.\n",
    "# You load files from each to create training and test datasets.\n",
    "\n",
    "# Create the training set. Use 80% of the data and keep the ramaining 20% for the validation.\n",
    "raw_training_set = tf.keras.utils.text_dataset_from_directory(\n",
    "  f'{data_dir}/train',\n",
    "  labels = 'inferred',\n",
    "  label_mode = 'int',\n",
    "  batch_size = 32, \n",
    "  validation_split = 0.2,\n",
    "  subset = 'training',\n",
    "  seed = seed\n",
    ")\n",
    "\n",
    "# Create the validation set. Use 20% of the data that was not used for training.\n",
    "raw_validation_set = tf.keras.utils.text_dataset_from_directory(\n",
    "  f'{data_dir}/train', \n",
    "  labels = 'inferred',\n",
    "  label_mode = 'int',\n",
    "  batch_size = 32,\n",
    "  validation_split = 0.2, \n",
    "  subset = 'validation',\n",
    "  seed = seed\n",
    ")\n",
    "\n",
    "# Create the test set.\n",
    "raw_test_set = tf.keras.utils.text_dataset_from_directory(\n",
    "  f'{data_dir}/test',\n",
    "  labels = 'inferred',\n",
    "  label_mode = 'int',\n",
    "  batch_size = 32\n",
    ")"
   ]
  },
  {
   "cell_type": "code",
   "execution_count": 6,
   "metadata": {},
   "outputs": [
    {
     "name": "stdout",
     "output_type": "stream",
     "text": [
      "Label 0 corresponds to neg\n",
      "Label 1 corresponds to pos\n"
     ]
    }
   ],
   "source": [
    "print(f\"Label 0 corresponds to {raw_training_set.class_names[0]}\")\n",
    "print(f\"Label 1 corresponds to {raw_training_set.class_names[1]}\")"
   ]
  },
  {
   "cell_type": "code",
   "execution_count": 7,
   "metadata": {},
   "outputs": [
    {
     "name": "stdout",
     "output_type": "stream",
     "text": [
      "Review:\n",
      " b'This is a reunion, a team, and a great episode of Justice. From hesitation to resolution, Clark has made a important leap from a troubled teenager who was afraid of a controlled destiny, to a Superman who, like Green Arrow, sets aside his emotions to his few loved ones, ready to save the whole planet. This is not just a thrilling story about teamwork, loyalty, and friendship; this is also about deciding what\\'s more important in life, a lesson for Clark. I do not want the series to end, but I hope the ensuing episodes will strictly stick to what Justice shows without any \"rewind\" pushes and put a good end here of Smallville---and a wonderful beginning of Superman.<br /><br />In this episode, however, we should have seen more contrast between Lex and the Team. Nine stars should give it enough credit.'\n",
      "Label: 1\n",
      "\n",
      "Review:\n",
      " b'\"Hey Babu Riba\" is a film about a young woman, Mariana (nicknamed \"Esther\" after a famous American movie star), and four young men, Glenn, Sacha, Kicha, and Pop, all perhaps 15-17 years old in 1953 Belgrade, Yugoslavia. The five are committed friends and crazy about jazz, blue jeans, or anything American it seems.<br /><br />The very close relationship of the teenagers is poignant, and ultimately a sacrifice is willingly made to try to help one of the group who has fallen on unexpected difficulties. In the wake of changing communist politics, they go their separate ways and reunite in 1985 (the year before the film was made).<br /><br />I enjoyed the film with some reservations. The subtitles for one thing were difficult. Especially in the beginning, there were a number of dialogues which had no subtitles at all. Perhaps the conversational pace required it, but I couldn\\'t always both read the text and absorb the scene, which caused me to not always understand which character was involved. I watched the movie (a video from our public library) with a friend, and neither of us really understood part of the story about acquiring streptomycin for a sick relative.<br /><br />This Yugoslavian coming of age film effectively conveyed the teenagers\\' sense of invulnerability, idealism, and strong and loyal bonds to each other. There is a main flashforward, and it was intriguing, keeping me guessing until the end as to who these characters were vis-a-vis the 1953 cast, and what had actually happened.<br /><br />I would rate it 7 out of 10, and would like to see other films by the director, Jovan Acin (1941-1991).'\n",
      "Label: 1\n",
      "\n",
      "Review:\n",
      " b\"No message. No symbolism. No dark undercurrents.Just a wonderful melange of music, nostalgia and good fun put to-gether by people who obviously had a great time doing it. It's a refreshing antidote to some of the pretentious garbage being ground out by the studios. Of course ANYTHING with the incomparable Judi Dench is worth watching. And Cleo Laine's brilliant jazz singing is a bonus. This lady is in the same league as the late Ella. This goes on my movie shelf to be pulled out again anytime I feel the need for a warm experience and a hearty good natured chuckle. Just a wonderful film!\"\n",
      "Label: 1\n",
      "\n"
     ]
    }
   ],
   "source": [
    "# Take one batch from the dataset and print out the first three datapoints in the batch\n",
    "for text_batch, label_batch in raw_training_set.take(1):\n",
    "  for i in range(3):\n",
    "    print(f\"Review:\\n {text_batch.numpy()[i]}\")\n",
    "    print(f\"Label: {label_batch.numpy()[i]}\\n\")"
   ]
  },
  {
   "cell_type": "markdown",
   "metadata": {},
   "source": [
    "### Prepare the data"
   ]
  },
  {
   "cell_type": "code",
   "execution_count": 8,
   "metadata": {},
   "outputs": [],
   "source": [
    "# Set the maximum number of words\n",
    "max_features = 10000\n",
    "\n",
    "# Define the custom standardization function \n",
    "def custom_standardization( input_data ):\n",
    "  # Convert all text to lowercase\n",
    "  lowercase = tf.strings.lower( input_data )\n",
    "  # Remove HTML tags\n",
    "  stripped_html = tf.strings.regex_replace( lowercase, '<br />', ' ' )\n",
    "  # Remove punctuation\n",
    "  replaced = tf.strings.regex_replace(\n",
    "    stripped_html, \n",
    "    '[%s]' % re.escape( string.punctuation ), \n",
    "    ''\n",
    "  )\n",
    "  return replaced\n",
    "\n",
    "# Create a layer that you can use to convert text to vectors\n",
    "vectorize_layer = layers.TextVectorization(\n",
    "  standardize = custom_standardization, \n",
    "  max_tokens = max_features, \n",
    "  output_mode = 'int',\n",
    "  output_sequence_length = 250\n",
    ")"
   ]
  },
  {
   "cell_type": "code",
   "execution_count": 9,
   "metadata": {},
   "outputs": [
    {
     "name": "stdout",
     "output_type": "stream",
     "text": [
      "Vocabulary size: 10000\n"
     ]
    }
   ],
   "source": [
    "# Build the vocabulary\n",
    "train_text = raw_training_set.map( lambda x, y: x )\n",
    "vectorize_layer.adapt( train_text )\n",
    "\n",
    "# Print out the vocabulary size\n",
    "print( f\"Vocabulary size: {len( vectorize_layer.get_vocabulary() )}\" )"
   ]
  },
  {
   "cell_type": "code",
   "execution_count": 10,
   "metadata": {},
   "outputs": [
    {
     "name": "stdout",
     "output_type": "stream",
     "text": [
      "Raw review: b\"Okay, so the plot is on shaky ground. Yeah, all right, so there are some randomly inserted song and/or dance sequences (for example: Adam's concert and Henri's stage act). And Leslie Caron can't really, um, you know... act.<br /><br />But somehow, 'An American In Paris' manages to come through it all as a polished, first-rate musical--largely on the basis of Gene Kelly's incredible dancing talent and choreography, and the truckloads of charm he seems to be importing into each scene with Caron. (He needs to, because she seems to have a... problem with emoting.) <br /><br />The most accomplished and technically awe-inspiring number in this musical is obviously the 16-minute ballet towards the end of the film. It's stunningly filmed, and Kelly and Caron dance beautifully. But my favourite number would have to be Kelly's character singing 'I Got Rhythm' with a bunch of French school-children, then breaking into an array of American dances. It just goes to prove how you don't need special effects when you've got some real *talent*.<br /><br />Not on the 'classics' level with 'Singin' In The Rain', but pretty high up there nonetheless. Worth the watch!\"\n",
      "\n",
      "Label: pos\n",
      "\n",
      "Vectorized review: (<tf.Tensor: shape=(1, 250), dtype=int64, numpy=\n",
      "array([[ 947,   38,    2,  112,    7,   20, 6022, 1754, 1438,   31,  201,\n",
      "          38,   46,   24,   47, 6565, 8919,  603, 2928,  831,  858,   15,\n",
      "         476, 3241, 3010,    4,    1,  892,  478,    4, 3553, 5885,  175,\n",
      "          63, 6992,   21,  118,  478,   18,  813,   33,  329,    8, 1466,\n",
      "        1029,    6,  227,  143,    9,   31,   14,    3, 6590, 9055,    1,\n",
      "          20,    2, 3025,    5, 1996,    1, 1085,  914,  597,    4, 2733,\n",
      "           4,    2,    1,    5, 1411,   27,  190,    6,   26,    1,   77,\n",
      "         244,  130,   16, 5885,   27,  731,    6,   80,   53,  190,    6,\n",
      "          25,    3,  425,   16,    1,    2,   85, 3622,    4, 2603,    1,\n",
      "         593,    8,   10,  663,    7,  506,    2,    1, 4342, 1089,    2,\n",
      "         121,    5,    2,   19,   29, 5994,  886,    4, 1561,    4, 5885,\n",
      "         831, 1415,   18,   55, 1496,  593,   62,   25,    6,   26,    1,\n",
      "         105,  965,   11,  186, 4687,   16,    3,  862,    5, 1001,    1,\n",
      "          96, 2442,   77,   33, 7537,    5,  329, 4825,    9,   41,  264,\n",
      "           6, 2131,   86,   21,   87,  333,  290,  317,   51,  699,  186,\n",
      "          47,  144,  597,   23,   20,    2, 2008,  557,   16, 7714,    8,\n",
      "           2, 2477,   18,  179,  307,   57,   46, 2878,  268,    2,  106,\n",
      "           0,    0,    0,    0,    0,    0,    0,    0,    0,    0,    0,\n",
      "           0,    0,    0,    0,    0,    0,    0,    0,    0,    0,    0,\n",
      "           0,    0,    0,    0,    0,    0,    0,    0,    0,    0,    0,\n",
      "           0,    0,    0,    0,    0,    0,    0,    0,    0,    0,    0,\n",
      "           0,    0,    0,    0,    0,    0,    0,    0,    0,    0,    0,\n",
      "           0,    0,    0,    0,    0,    0,    0,    0]])>, <tf.Tensor: shape=(), dtype=int32, numpy=1>)\n"
     ]
    }
   ],
   "source": [
    "# Define the final function that you will use to vectorize the text. \n",
    "def vectorize_text( text, label ):\n",
    "  text = tf.expand_dims( text, -1 )\n",
    "  return vectorize_layer( text ), label\n",
    "\n",
    "# Get one batch and select the first datapoint\n",
    "text_batch, label_batch = next( iter( raw_training_set ) )\n",
    "first_review, first_label = text_batch[0], label_batch[0]\n",
    "\n",
    "# Show the raw data\n",
    "print( f\"Raw review: {first_review}\" )\n",
    "print( f\"\\nLabel: {raw_training_set.class_names[first_label]}\" )\n",
    "\n",
    "# Show the vectorized data\n",
    "print( f\"\\nVectorized review: {vectorize_text( first_review, first_label )}\" )"
   ]
  },
  {
   "cell_type": "code",
   "execution_count": 11,
   "metadata": {},
   "outputs": [],
   "source": [
    "train_ds = raw_training_set.map( vectorize_text )\n",
    "val_ds = raw_validation_set.map( vectorize_text )\n",
    "test_ds = raw_test_set.map( vectorize_text )"
   ]
  },
  {
   "cell_type": "markdown",
   "metadata": {},
   "source": [
    "### Configure the dataset"
   ]
  },
  {
   "cell_type": "code",
   "execution_count": 12,
   "metadata": {},
   "outputs": [],
   "source": [
    "AUTOTUNE = tf.data.AUTOTUNE\n",
    "\n",
    "train_ds = train_ds.cache().prefetch( buffer_size = AUTOTUNE )\n",
    "test_ds = test_ds.cache().prefetch( buffer_size = AUTOTUNE )"
   ]
  },
  {
   "cell_type": "markdown",
   "metadata": {},
   "source": [
    "### Create a sequential model"
   ]
  },
  {
   "cell_type": "code",
   "execution_count": 13,
   "metadata": {},
   "outputs": [
    {
     "name": "stdout",
     "output_type": "stream",
     "text": [
      "Model: \"sequential\"\n",
      "_________________________________________________________________\n",
      " Layer (type)                Output Shape              Param #   \n",
      "=================================================================\n",
      " embedding (Embedding)       (None, None, 16)          160000    \n",
      "                                                                 \n",
      " global_average_pooling1d (  (None, 16)                0         \n",
      " GlobalAveragePooling1D)                                         \n",
      "                                                                 \n",
      " dense (Dense)               (None, 1)                 17        \n",
      "                                                                 \n",
      "=================================================================\n",
      "Total params: 160017 (625.07 KB)\n",
      "Trainable params: 160017 (625.07 KB)\n",
      "Non-trainable params: 0 (0.00 Byte)\n",
      "_________________________________________________________________\n"
     ]
    }
   ],
   "source": [
    "embedding_dim = 16\n",
    "\n",
    "# Create the model by calling tf.keras.Sequential, where the layers are given in a list.\n",
    "model_sequential = tf.keras.Sequential(\n",
    "  [\n",
    "    layers.Embedding( max_features, embedding_dim ),\n",
    "    layers.GlobalAveragePooling1D(),\n",
    "    layers.Dense( 1, activation='sigmoid' )\n",
    "  ]\n",
    ")\n",
    "\n",
    "# Print out the summary of the model\n",
    "model_sequential.summary()"
   ]
  },
  {
   "cell_type": "code",
   "execution_count": 14,
   "metadata": {},
   "outputs": [],
   "source": [
    "model_sequential.compile( \n",
    "  loss = losses.BinaryCrossentropy(),\n",
    "  optimizer = 'adam',\n",
    "  metrics = ['accuracy']\n",
    ")"
   ]
  },
  {
   "cell_type": "markdown",
   "metadata": {},
   "source": [
    "### Create a Model using functional API"
   ]
  },
  {
   "cell_type": "code",
   "execution_count": 15,
   "metadata": {},
   "outputs": [
    {
     "name": "stdout",
     "output_type": "stream",
     "text": [
      "Model: \"model\"\n",
      "_________________________________________________________________\n",
      " Layer (type)                Output Shape              Param #   \n",
      "=================================================================\n",
      " input_1 (InputLayer)        [(None, None)]            0         \n",
      "                                                                 \n",
      " embedding_1 (Embedding)     (None, None, 16)          160000    \n",
      "                                                                 \n",
      " global_average_pooling1d_1  (None, 16)                0         \n",
      "  (GlobalAveragePooling1D)                                       \n",
      "                                                                 \n",
      " dense_1 (Dense)             (None, 1)                 17        \n",
      "                                                                 \n",
      "=================================================================\n",
      "Total params: 160017 (625.07 KB)\n",
      "Trainable params: 160017 (625.07 KB)\n",
      "Non-trainable params: 0 (0.00 Byte)\n",
      "_________________________________________________________________\n"
     ]
    }
   ],
   "source": [
    "# Define the inputs \n",
    "inputs = tf.keras.Input( shape = (None,))\n",
    "\n",
    "# Define the first layer \n",
    "embedding = layers.Embedding( max_features, embedding_dim )\n",
    "\n",
    "# Call the first layer with inputs as the parameter\n",
    "x = embedding(inputs)\n",
    "\n",
    "# Define the second layer\n",
    "pooling = layers.GlobalAveragePooling1D()\n",
    "\n",
    "# Call the first layer with the output of the previous layer as the parameter \n",
    "x = pooling(x)\n",
    "\n",
    "# Define and acll in the same line. ( Same thing used two lines of code above\n",
    "# for other layers. You can use any option you prefer. )\n",
    "outputs = layers.Dense( 1, activation = 'sigmoid' )(x)\n",
    "\n",
    "# The two-line alternative would be:\n",
    "#dense = layers.Dense( 1, activation='sigmoid' )\n",
    "#x = dense(x)\n",
    "\n",
    "# Create the model\n",
    "model_functional = tf.keras.Model( inputs = inputs, outputs = outputs )\n",
    "\n",
    "# Print out the summary of the model \n",
    "model_functional.summary()"
   ]
  },
  {
   "cell_type": "code",
   "execution_count": 16,
   "metadata": {},
   "outputs": [],
   "source": [
    "model_functional.compile( \n",
    "  loss = losses.BinaryCrossentropy(),\n",
    "  optimizer = 'adam',\n",
    "  metrics = ['accuracy']  \n",
    ")"
   ]
  },
  {
   "cell_type": "markdown",
   "metadata": {},
   "source": [
    "### Train the Model"
   ]
  },
  {
   "cell_type": "code",
   "execution_count": 17,
   "metadata": {},
   "outputs": [],
   "source": [
    "# Select which model you want to use and train, the results should be the same\n",
    "model = model_functional # model = model_sequential"
   ]
  },
  {
   "cell_type": "code",
   "execution_count": 18,
   "metadata": {},
   "outputs": [
    {
     "name": "stdout",
     "output_type": "stream",
     "text": [
      "Epoch 1/25\n"
     ]
    },
    {
     "name": "stderr",
     "output_type": "stream",
     "text": [
      "WARNING: All log messages before absl::InitializeLog() is called are written to STDERR\n",
      "I0000 00:00:1710876023.970136  132718 device_compiler.h:186] Compiled cluster using XLA!  This line is logged at most once for the lifetime of the process.\n"
     ]
    },
    {
     "name": "stdout",
     "output_type": "stream",
     "text": [
      "125/125 - 11s - loss: 0.6907 - accuracy: 0.5520 - val_loss: 0.6874 - val_accuracy: 0.6670 - 11s/epoch - 84ms/step\n",
      "Epoch 2/25\n",
      "125/125 - 0s - loss: 0.6800 - accuracy: 0.6927 - val_loss: 0.6739 - val_accuracy: 0.7190 - 310ms/epoch - 2ms/step\n",
      "Epoch 3/25\n",
      "125/125 - 0s - loss: 0.6599 - accuracy: 0.7450 - val_loss: 0.6519 - val_accuracy: 0.7410 - 357ms/epoch - 3ms/step\n",
      "Epoch 4/25\n",
      "125/125 - 0s - loss: 0.6313 - accuracy: 0.7720 - val_loss: 0.6242 - val_accuracy: 0.7680 - 246ms/epoch - 2ms/step\n",
      "Epoch 5/25\n",
      "125/125 - 0s - loss: 0.5977 - accuracy: 0.7897 - val_loss: 0.5947 - val_accuracy: 0.7880 - 380ms/epoch - 3ms/step\n",
      "Epoch 6/25\n",
      "125/125 - 0s - loss: 0.5621 - accuracy: 0.8085 - val_loss: 0.5659 - val_accuracy: 0.7980 - 337ms/epoch - 3ms/step\n",
      "Epoch 7/25\n",
      "125/125 - 0s - loss: 0.5268 - accuracy: 0.8325 - val_loss: 0.5389 - val_accuracy: 0.8000 - 259ms/epoch - 2ms/step\n",
      "Epoch 8/25\n",
      "125/125 - 0s - loss: 0.4928 - accuracy: 0.8508 - val_loss: 0.5141 - val_accuracy: 0.8060 - 238ms/epoch - 2ms/step\n",
      "Epoch 9/25\n",
      "125/125 - 0s - loss: 0.4608 - accuracy: 0.8673 - val_loss: 0.4915 - val_accuracy: 0.8180 - 337ms/epoch - 3ms/step\n",
      "Epoch 10/25\n",
      "125/125 - 0s - loss: 0.4309 - accuracy: 0.8830 - val_loss: 0.4712 - val_accuracy: 0.8250 - 350ms/epoch - 3ms/step\n",
      "Epoch 11/25\n",
      "125/125 - 0s - loss: 0.4034 - accuracy: 0.8903 - val_loss: 0.4532 - val_accuracy: 0.8330 - 219ms/epoch - 2ms/step\n",
      "Epoch 12/25\n",
      "125/125 - 0s - loss: 0.3782 - accuracy: 0.9018 - val_loss: 0.4373 - val_accuracy: 0.8420 - 335ms/epoch - 3ms/step\n",
      "Epoch 13/25\n",
      "125/125 - 0s - loss: 0.3552 - accuracy: 0.9055 - val_loss: 0.4233 - val_accuracy: 0.8470 - 327ms/epoch - 3ms/step\n",
      "Epoch 14/25\n",
      "125/125 - 0s - loss: 0.3343 - accuracy: 0.9145 - val_loss: 0.4110 - val_accuracy: 0.8490 - 339ms/epoch - 3ms/step\n",
      "Epoch 15/25\n",
      "125/125 - 0s - loss: 0.3152 - accuracy: 0.9220 - val_loss: 0.4002 - val_accuracy: 0.8540 - 350ms/epoch - 3ms/step\n",
      "Epoch 16/25\n",
      "125/125 - 0s - loss: 0.2976 - accuracy: 0.9275 - val_loss: 0.3907 - val_accuracy: 0.8530 - 320ms/epoch - 3ms/step\n",
      "Epoch 17/25\n",
      "125/125 - 0s - loss: 0.2814 - accuracy: 0.9312 - val_loss: 0.3824 - val_accuracy: 0.8550 - 455ms/epoch - 4ms/step\n",
      "Epoch 18/25\n",
      "125/125 - 0s - loss: 0.2664 - accuracy: 0.9373 - val_loss: 0.3750 - val_accuracy: 0.8580 - 388ms/epoch - 3ms/step\n",
      "Epoch 19/25\n",
      "125/125 - 0s - loss: 0.2525 - accuracy: 0.9413 - val_loss: 0.3685 - val_accuracy: 0.8580 - 321ms/epoch - 3ms/step\n",
      "Epoch 20/25\n",
      "125/125 - 0s - loss: 0.2395 - accuracy: 0.9473 - val_loss: 0.3628 - val_accuracy: 0.8590 - 315ms/epoch - 3ms/step\n",
      "Epoch 21/25\n",
      "125/125 - 0s - loss: 0.2273 - accuracy: 0.9498 - val_loss: 0.3577 - val_accuracy: 0.8620 - 289ms/epoch - 2ms/step\n",
      "Epoch 22/25\n",
      "125/125 - 0s - loss: 0.2159 - accuracy: 0.9530 - val_loss: 0.3533 - val_accuracy: 0.8610 - 266ms/epoch - 2ms/step\n",
      "Epoch 23/25\n",
      "125/125 - 0s - loss: 0.2051 - accuracy: 0.9575 - val_loss: 0.3493 - val_accuracy: 0.8600 - 360ms/epoch - 3ms/step\n",
      "Epoch 24/25\n",
      "125/125 - 0s - loss: 0.1949 - accuracy: 0.9620 - val_loss: 0.3459 - val_accuracy: 0.8610 - 366ms/epoch - 3ms/step\n",
      "Epoch 25/25\n",
      "125/125 - 0s - loss: 0.1852 - accuracy: 0.9640 - val_loss: 0.3429 - val_accuracy: 0.8590 - 292ms/epoch - 2ms/step\n"
     ]
    }
   ],
   "source": [
    "epochs = 25\n",
    "history = model.fit(\n",
    "  train_ds,\n",
    "  validation_data = val_ds,\n",
    "  epochs = epochs,\n",
    "  verbose = 2 \n",
    ")"
   ]
  },
  {
   "cell_type": "markdown",
   "metadata": {},
   "source": [
    "### Evaluate the model"
   ]
  },
  {
   "cell_type": "code",
   "execution_count": 19,
   "metadata": {},
   "outputs": [
    {
     "name": "stdout",
     "output_type": "stream",
     "text": [
      "157/157 [==============================] - 0s 1ms/step - loss: 0.3644 - accuracy: 0.8458\n",
      "Loss: 0.3644387423992157\n",
      "\n",
      "Accuracy: 0.84579998254776\n"
     ]
    }
   ],
   "source": [
    "loss, accuracy = model.evaluate( test_ds )\n",
    "\n",
    "print(f\"Loss: {loss}\")\n",
    "print(\"\")\n",
    "print(f\"Accuracy: {accuracy}\")"
   ]
  },
  {
   "cell_type": "markdown",
   "metadata": {},
   "source": [
    "### Plot the metrics"
   ]
  },
  {
   "cell_type": "code",
   "execution_count": 20,
   "metadata": {},
   "outputs": [
    {
     "data": {
      "image/png": "[encoded data removed]",
      "text/plain": [
       "<Figure size 640x480 with 1 Axes>"
      ]
     },
     "metadata": {},
     "output_type": "display_data"
    },
    {
     "data": {
      "image/png": "[encoded data removed]",
      "text/plain": [
       "<Figure size 640x480 with 1 Axes>"
      ]
     },
     "metadata": {},
     "output_type": "display_data"
    }
   ],
   "source": [
    "def plot_metrics( history, metric ):\n",
    "  plt.plot( history.history[metric] )\n",
    "  plt.plot( history.history[f'val_{metric}'] )\n",
    "  plt.xlabel( \"Epochs\" )\n",
    "  plt.ylabel( metric.title() )\n",
    "  plt.legend( [metric, f'val_{metric}'] )\n",
    "  plt.show()\n",
    "\n",
    "plot_metrics( history, 'accuracy' )\n",
    "plot_metrics( history, 'loss' )"
   ]
  },
  {
   "cell_type": "markdown",
   "metadata": {},
   "source": [
    "### Predict your own data"
   ]
  },
  {
   "cell_type": "code",
   "execution_count": 21,
   "metadata": {},
   "outputs": [],
   "source": [
    "# Make a new sequential model using the vectorization layer and the model you just trained.\n",
    "export_model = tf.keras.Sequential(\n",
    "  [\n",
    "    vectorize_layer, \n",
    "    model\n",
    "  ]\n",
    ")\n",
    "\n",
    "# Compile the model\n",
    "export_model.compile(\n",
    "  loss = losses.BinaryCrossentropy(\n",
    "    from_logits = False\n",
    "  ), \n",
    "  optimizer = \"adam\", \n",
    "  metrics = [ 'accuracy' ]\n",
    ")"
   ]
  },
  {
   "cell_type": "code",
   "execution_count": 22,
   "metadata": {},
   "outputs": [
    {
     "name": "stdout",
     "output_type": "stream",
     "text": [
      "Result: 0.626, Label: 1, Review: this movie was very, very good\n",
      "Result: 0.542, Label: 1, Review: quite ok\n",
      "Result: 0.427, Label: 0, Review: the movie was not bad\n",
      "Result: 0.473, Label: 0, Review: bad\n",
      "Result: 0.428, Label: 0, Review: negative disappointed bad scary\n",
      "Result: 0.456, Label: 0, Review: this movie was stupid\n"
     ]
    }
   ],
   "source": [
    "examples = [\n",
    "  'this movie was very, very good', \n",
    "  'quite ok', \n",
    "  'the movie was not bad', \n",
    "  'bad', \n",
    "  'negative disappointed bad scary', \n",
    "  'this movie was stupid'\n",
    "]\n",
    "\n",
    "results = export_model.predict( examples, verbose = False )\n",
    "\n",
    "for result, example in zip( results, examples ):\n",
    "  print( f'Result: {result[0]:.3f}, Label: {int(np.round( result[0]))}, Review: {example}')"
   ]
  },
  {
   "cell_type": "markdown",
   "metadata": {},
   "source": []
  }
 ],
 "metadata": {
  "kernelspec": {
   "display_name": "TransformersML",
   "language": "python",
   "name": "python3"
  },
  "language_info": {
   "codemirror_mode": {
    "name": "ipython",
    "version": 3
   },
   "file_extension": ".py",
   "mimetype": "text/x-python",
   "name": "python",
   "nbconvert_exporter": "python",
   "pygments_lexer": "ipython3",
   "version": "3.10.12"
  }
 },
 "nbformat": 4,
 "nbformat_minor": 2
}
