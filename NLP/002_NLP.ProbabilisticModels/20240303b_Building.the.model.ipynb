{
 "cells": [
  {
   "cell_type": "markdown",
   "metadata": {},
   "source": [
    "### Candidates from String Edits  \n",
    "Create a list of candidate strings by applying an edit operation"
   ]
  },
  {
   "cell_type": "code",
   "execution_count": 2,
   "metadata": {},
   "outputs": [],
   "source": [
    "# data \n",
    "word = 'dearz'"
   ]
  },
  {
   "cell_type": "markdown",
   "metadata": {},
   "source": [
    "### Splits  \n",
    "Find all the ways you can split a word into 2 parts"
   ]
  },
  {
   "cell_type": "code",
   "execution_count": 3,
   "metadata": {},
   "outputs": [
    {
     "name": "stdout",
     "output_type": "stream",
     "text": [
      "['', 'dearz']\n",
      "['d', 'earz']\n",
      "['de', 'arz']\n",
      "['dea', 'rz']\n",
      "['dear', 'z']\n",
      "['dearz', '']\n"
     ]
    }
   ],
   "source": [
    "# Splits with a loop\n",
    "splits_a = []\n",
    "\n",
    "for i in range( len(word) + 1 ):\n",
    "  splits_a.append( [ word[:i], word[i:] ] )\n",
    "\n",
    "for i in splits_a:\n",
    "  print(i)"
   ]
  },
  {
   "cell_type": "code",
   "execution_count": 4,
   "metadata": {},
   "outputs": [
    {
     "name": "stdout",
     "output_type": "stream",
     "text": [
      "('', 'dearz')\n",
      "('d', 'earz')\n",
      "('de', 'arz')\n",
      "('dea', 'rz')\n",
      "('dear', 'z')\n",
      "('dearz', '')\n"
     ]
    }
   ],
   "source": [
    "# Same splits, done using a list comprehension\n",
    "splits_b = [ (word[:i], word[i:] ) for i in range( len( word ) + 1 ) ]\n",
    "\n",
    "for i in splits_b:\n",
    "  print(i)"
   ]
  },
  {
   "cell_type": "markdown",
   "metadata": {},
   "source": [
    "### Delete edit  \n",
    "Delete a letter from each string in the ```splits``` list  \n",
    "What this does is effectively delete each possible letter from the original word being edited."
   ]
  },
  {
   "cell_type": "code",
   "execution_count": 5,
   "metadata": {},
   "outputs": [
    {
     "name": "stdout",
     "output_type": "stream",
     "text": [
      "word: dearz\n",
      "earz  <--- delete  d\n",
      "darz  <--- delete  e\n",
      "derz  <--- delete  a\n",
      "deaz  <--- delete  r\n",
      "dear  <--- delete  z\n"
     ]
    }
   ],
   "source": [
    "# Deletes with a loop\n",
    "splits = splits_a\n",
    "deletes = [] \n",
    "\n",
    "print( 'word:', word )\n",
    "\n",
    "for L, R in splits: \n",
    "  if R:\n",
    "    print( L + R[1:], ' <--- delete ', R[0] )"
   ]
  },
  {
   "cell_type": "markdown",
   "metadata": {},
   "source": [
    "It's worth taking a closer look at how this is executing a 'delete'  \n",
    "Taking the first item from the ```splits``` list: "
   ]
  },
  {
   "cell_type": "code",
   "execution_count": 8,
   "metadata": {},
   "outputs": [
    {
     "name": "stdout",
     "output_type": "stream",
     "text": [
      "word:  dearz\n",
      "first item from the splits list :  ['', 'dearz']\n",
      "L: \n",
      "R: dearz\n",
      "*** now implicit delete by excluding the leading letter ***\n",
      "L + R[1:] :  earz  <--- delete  d\n"
     ]
    }
   ],
   "source": [
    "# Breaking it down\n",
    "print( 'word: ', word )\n",
    "one_split = splits[0]\n",
    "print( 'first item from the splits list : ', one_split )\n",
    "L = one_split[0]\n",
    "R = one_split[1]\n",
    "print( 'L:', L )\n",
    "print( 'R:', R )\n",
    "print( '*** now implicit delete by excluding the leading letter ***' )\n",
    "print( 'L + R[1:] : ', L + R[1:], ' <--- delete ', R[0] )"
   ]
  },
  {
   "cell_type": "code",
   "execution_count": 9,
   "metadata": {},
   "outputs": [
    {
     "name": "stdout",
     "output_type": "stream",
     "text": [
      "['earz', 'darz', 'derz', 'deaz', 'dear']\n",
      "*** which is the same as ***\n",
      "earz\n",
      "darz\n",
      "derz\n",
      "deaz\n",
      "dear\n"
     ]
    }
   ],
   "source": [
    "# deletes with a list comprehension\n",
    "splits = splits_a\n",
    "deletes = [L + R[1:] for L, R in splits if R]\n",
    "\n",
    "print(deletes)\n",
    "print('*** which is the same as ***')\n",
    "for i in deletes:\n",
    "    print(i)"
   ]
  },
  {
   "cell_type": "markdown",
   "metadata": {},
   "source": [
    "Since we have a list of candidate strings created after performing a delete edit.  \n",
    "The next step will be to filter this list for candidadte words found in a vocabulary.  "
   ]
  },
  {
   "cell_type": "code",
   "execution_count": 10,
   "metadata": {},
   "outputs": [
    {
     "name": "stdout",
     "output_type": "stream",
     "text": [
      "vocab :  ['dean', 'deer', 'dear', 'fries', 'and', 'coke']\n",
      "edits :  ['earz', 'darz', 'derz', 'deaz', 'dear']\n",
      "candidate words :  {'dear'}\n"
     ]
    }
   ],
   "source": [
    "vocab = [ 'dean', 'deer', 'dear', 'fries', 'and', 'coke' ]\n",
    "edits = list( deletes )\n",
    "\n",
    "print( 'vocab : ', vocab )\n",
    "print( 'edits : ', edits )\n",
    "\n",
    "candidates = []\n",
    "\n",
    "vocab_set = set( vocab )\n",
    "edits_set = set( edits )\n",
    "\n",
    "candidates = vocab_set.intersection( edits_set )\n",
    "\n",
    "print( 'candidate words : ', candidates)"
   ]
  },
  {
   "cell_type": "code",
   "execution_count": null,
   "metadata": {},
   "outputs": [],
   "source": []
  }
 ],
 "metadata": {
  "kernelspec": {
   "display_name": "TransformersML",
   "language": "python",
   "name": "python3"
  },
  "language_info": {
   "codemirror_mode": {
    "name": "ipython",
    "version": 3
   },
   "file_extension": ".py",
   "mimetype": "text/x-python",
   "name": "python",
   "nbconvert_exporter": "python",
   "pygments_lexer": "ipython3",
   "version": "3.10.12"
  }
 },
 "nbformat": 4,
 "nbformat_minor": 2
}
